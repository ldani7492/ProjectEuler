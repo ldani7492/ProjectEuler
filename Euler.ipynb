{
 "cells": [
  {
   "cell_type": "markdown",
   "metadata": {},
   "source": [
    "# Euler"
   ]
  },
  {
   "cell_type": "markdown",
   "metadata": {},
   "source": [
    "## Problem 1"
   ]
  },
  {
   "cell_type": "markdown",
   "metadata": {},
   "source": [
    "### Multiples of 3 and 5"
   ]
  },
  {
   "cell_type": "code",
   "execution_count": 49,
   "metadata": {},
   "outputs": [
    {
     "data": {
      "text/plain": [
       "233168"
      ]
     },
     "execution_count": 49,
     "metadata": {},
     "output_type": "execute_result"
    }
   ],
   "source": [
    "a = 0\n",
    "for i in range(1,1000):\n",
    "    if (i%3 == 0 or i%5 == 0):\n",
    "        a=a+i\n",
    "        \n",
    "a"
   ]
  },
  {
   "cell_type": "markdown",
   "metadata": {},
   "source": [
    "## Problem 2"
   ]
  },
  {
   "cell_type": "markdown",
   "metadata": {},
   "source": [
    "### Even Fibonacci numbers"
   ]
  },
  {
   "cell_type": "code",
   "execution_count": 14,
   "metadata": {},
   "outputs": [
    {
     "data": {
      "text/plain": [
       "4613732"
      ]
     },
     "execution_count": 14,
     "metadata": {},
     "output_type": "execute_result"
    }
   ],
   "source": [
    "def fibonacci(i1,i2,acc):\n",
    "    a = acc\n",
    "    if i2 % 2 == 0:\n",
    "        a = a + i2\n",
    "    if i1 + i2 > 4000000:\n",
    "        return a\n",
    "    else:\n",
    "        \n",
    "        return fibonacci(i2, i1+i2, a)\n",
    "    \n",
    "fibonacci(1,2,0)"
   ]
  },
  {
   "cell_type": "markdown",
   "metadata": {},
   "source": [
    "## Problem 3"
   ]
  },
  {
   "cell_type": "markdown",
   "metadata": {},
   "source": [
    "### Largest prime factor"
   ]
  },
  {
   "cell_type": "code",
   "execution_count": 5,
   "metadata": {},
   "outputs": [
    {
     "data": {
      "text/plain": [
       "6857"
      ]
     },
     "execution_count": 5,
     "metadata": {},
     "output_type": "execute_result"
    }
   ],
   "source": [
    "def is_prime(n):\n",
    "    for i in range(2, n-1):\n",
    "        if n%i==0:\n",
    "            return False\n",
    "    return True\n",
    "\n",
    "def next_prime(n):\n",
    "    if is_prime(n+1):\n",
    "        return n+1\n",
    "    else:\n",
    "        return next_prime(n+1)\n",
    "    \n",
    "def div(n,p):\n",
    "    if n == p:\n",
    "        return p\n",
    "    if n%p==0:\n",
    "        return div(n/p, p)\n",
    "    else:\n",
    "        return div(n, next_prime(p))\n",
    "    \n",
    "div(600851475143, 2)"
   ]
  },
  {
   "cell_type": "markdown",
   "metadata": {},
   "source": [
    "## Problem 4"
   ]
  },
  {
   "cell_type": "markdown",
   "metadata": {},
   "source": [
    "### Largest palindrome product"
   ]
  },
  {
   "cell_type": "code",
   "execution_count": 85,
   "metadata": {},
   "outputs": [
    {
     "data": {
      "text/plain": [
       "906609"
      ]
     },
     "execution_count": 85,
     "metadata": {},
     "output_type": "execute_result"
    }
   ],
   "source": [
    "import math\n",
    "\n",
    "def is_palindrome(n):\n",
    "    s = str(n)\n",
    "    for i in range(0,math.ceil(len(s)/2)):\n",
    "        if s[i] != s[len(s)-1-i]:\n",
    "            return False\n",
    "    return True\n",
    "\n",
    "max_p = 0\n",
    "\n",
    "for i in range(100,1000):\n",
    "    for j in range(100,1000):\n",
    "        p=i*j\n",
    "        if is_palindrome(p) and p > max_p:\n",
    "            max_p = p\n",
    "            \n",
    "max_p"
   ]
  },
  {
   "cell_type": "markdown",
   "metadata": {},
   "source": [
    "## Problem 5"
   ]
  },
  {
   "cell_type": "markdown",
   "metadata": {},
   "source": [
    "### Smallest multiple"
   ]
  },
  {
   "cell_type": "code",
   "execution_count": 126,
   "metadata": {},
   "outputs": [
    {
     "data": {
      "text/plain": [
       "232792560"
      ]
     },
     "execution_count": 126,
     "metadata": {},
     "output_type": "execute_result"
    }
   ],
   "source": [
    "def is_prime(n):\n",
    "    for i in range(2, n-1):\n",
    "        if n%i==0:\n",
    "            return False\n",
    "    return True\n",
    "\n",
    "def next_prime(n):\n",
    "    if is_prime(n+1):\n",
    "        return n+1\n",
    "    else:\n",
    "        return next_prime(n+1)\n",
    "\n",
    "def primes(n,p,l):\n",
    "    if n == 1:\n",
    "        return l\n",
    "    if n%p==0:\n",
    "        l.append(p)\n",
    "        return primes(n/p, p, l)\n",
    "    else:\n",
    "        return primes(n, next_prime(p), l)\n",
    "\n",
    "d = dict()\n",
    "for i in range(1,21):\n",
    "    l = primes(i,2,[])\n",
    "    s = set(l)\n",
    "    for p in s:\n",
    "        c = l.count(p)\n",
    "        if p not in d or d[p] < c:\n",
    "            d[p] = c\n",
    "\n",
    "a = 1\n",
    "for p in d:\n",
    "    a = a*p**d[p]\n",
    "a"
   ]
  },
  {
   "cell_type": "markdown",
   "metadata": {},
   "source": [
    "## Problem 6"
   ]
  },
  {
   "cell_type": "markdown",
   "metadata": {},
   "source": [
    "### Sum square difference"
   ]
  },
  {
   "cell_type": "code",
   "execution_count": 130,
   "metadata": {},
   "outputs": [
    {
     "data": {
      "text/plain": [
       "25164150"
      ]
     },
     "execution_count": 130,
     "metadata": {},
     "output_type": "execute_result"
    }
   ],
   "source": [
    "sum_sq = sum(range(1,101))**2\n",
    "sq_sum = sum(list(map(lambda x: x**2, range(1,101))))\n",
    "\n",
    "sum_sq-sq_sum"
   ]
  },
  {
   "cell_type": "markdown",
   "metadata": {},
   "source": [
    "## Problem 7"
   ]
  },
  {
   "cell_type": "markdown",
   "metadata": {},
   "source": [
    "### 10001st prime"
   ]
  },
  {
   "cell_type": "code",
   "execution_count": 168,
   "metadata": {},
   "outputs": [
    {
     "data": {
      "text/plain": [
       "104743"
      ]
     },
     "execution_count": 168,
     "metadata": {},
     "output_type": "execute_result"
    }
   ],
   "source": [
    "primes= []\n",
    "\n",
    "def candidate_prime(n):\n",
    "    for p in primes:\n",
    "        if n%p==0:\n",
    "            return False\n",
    "    primes.append(n)\n",
    "    return True\n",
    "\n",
    "p = 1\n",
    "while len(primes) < 10001:\n",
    "    p=p+1\n",
    "    candidate_prime(p)\n",
    "    \n",
    "p"
   ]
  },
  {
   "cell_type": "markdown",
   "metadata": {},
   "source": [
    "## Problem 8"
   ]
  },
  {
   "cell_type": "markdown",
   "metadata": {},
   "source": [
    "### Largest product in a series"
   ]
  },
  {
   "cell_type": "code",
   "execution_count": 138,
   "metadata": {},
   "outputs": [
    {
     "data": {
      "text/plain": [
       "23514624000"
      ]
     },
     "execution_count": 138,
     "metadata": {},
     "output_type": "execute_result"
    }
   ],
   "source": [
    "n = (\"73167176531330624919225119674426574742355349194934\" +\n",
    "\"96983520312774506326239578318016984801869478851843\" +\n",
    "\"85861560789112949495459501737958331952853208805511\" +\n",
    "\"12540698747158523863050715693290963295227443043557\" + \n",
    "\"66896648950445244523161731856403098711121722383113\" +\n",
    "\"62229893423380308135336276614282806444486645238749\" +\n",
    "\"30358907296290491560440772390713810515859307960866\" +\n",
    "\"70172427121883998797908792274921901699720888093776\" +\n",
    "\"65727333001053367881220235421809751254540594752243\" +\n",
    "\"52584907711670556013604839586446706324415722155397\" +\n",
    "\"53697817977846174064955149290862569321978468622482\" +\n",
    "\"83972241375657056057490261407972968652414535100474\" +\n",
    "\"82166370484403199890008895243450658541227588666881\" +\n",
    "\"16427171479924442928230863465674813919123162824586\" +\n",
    "\"17866458359124566529476545682848912883142607690042\" +\n",
    "\"24219022671055626321111109370544217506941658960408\" +\n",
    "\"07198403850962455444362981230987879927244284909188\" +\n",
    "\"84580156166097919133875499200524063689912560717606\" +\n",
    "\"05886116467109405077541002256983155200055935729725\" +\n",
    "\"71636269561882670428252483600823257530420752963450\")\n",
    "\n",
    "max_p = 0\n",
    "for i in range(0,len(n)-13):\n",
    "    p = 1\n",
    "    for j in range(0,13):\n",
    "        p = p*int(n[i+j])\n",
    "    if p > max_p:\n",
    "        max_p = p\n",
    "        \n",
    "max_p"
   ]
  },
  {
   "cell_type": "markdown",
   "metadata": {},
   "source": [
    "## Problem 9"
   ]
  },
  {
   "cell_type": "markdown",
   "metadata": {},
   "source": [
    "### Special Pythagorean triplet"
   ]
  },
  {
   "cell_type": "code",
   "execution_count": 156,
   "metadata": {},
   "outputs": [
    {
     "name": "stdout",
     "output_type": "stream",
     "text": [
      "31875000\n"
     ]
    }
   ],
   "source": [
    "import math\n",
    "\n",
    "for a in range(1, 1001):\n",
    "    for b in range(a, 1001):\n",
    "        c = 1000-a-b\n",
    "        if a**2+b**2==c**2:\n",
    "            print(a*b*c)"
   ]
  },
  {
   "cell_type": "markdown",
   "metadata": {},
   "source": [
    "## Problem 10"
   ]
  },
  {
   "cell_type": "markdown",
   "metadata": {},
   "source": [
    "### Summation of primes"
   ]
  },
  {
   "cell_type": "code",
   "execution_count": 174,
   "metadata": {},
   "outputs": [
    {
     "data": {
      "text/plain": [
       "142913828922"
      ]
     },
     "execution_count": 174,
     "metadata": {},
     "output_type": "execute_result"
    }
   ],
   "source": [
    "primes= []\n",
    "\n",
    "def candidate_prime(n):\n",
    "    for p in primes:\n",
    "        if n%p==0:\n",
    "            return False\n",
    "    primes.append(n)\n",
    "    return True\n",
    "\n",
    "for i in range(2,2000000):\n",
    "    candidate_prime(i)\n",
    "    \n",
    "sum(primes)"
   ]
  },
  {
   "cell_type": "markdown",
   "metadata": {},
   "source": [
    "## Problem 11"
   ]
  },
  {
   "cell_type": "markdown",
   "metadata": {},
   "source": [
    "### Largest product in a grid"
   ]
  },
  {
   "cell_type": "code",
   "execution_count": 45,
   "metadata": {},
   "outputs": [
    {
     "data": {
      "text/plain": [
       "70600674"
      ]
     },
     "execution_count": 45,
     "metadata": {},
     "output_type": "execute_result"
    }
   ],
   "source": [
    "s = (\"08 02 22 97 38 15 00 40 00 75 04 05 07 78 52 12 50 77 91 08 \"+\n",
    "\"49 49 99 40 17 81 18 57 60 87 17 40 98 43 69 48 04 56 62 00 \"+\n",
    "\"81 49 31 73 55 79 14 29 93 71 40 67 53 88 30 03 49 13 36 65 \"+\n",
    "\"52 70 95 23 04 60 11 42 69 24 68 56 01 32 56 71 37 02 36 91 \"+\n",
    "\"22 31 16 71 51 67 63 89 41 92 36 54 22 40 40 28 66 33 13 80 \"+\n",
    "\"24 47 32 60 99 03 45 02 44 75 33 53 78 36 84 20 35 17 12 50 \"+\n",
    "\"32 98 81 28 64 23 67 10 26 38 40 67 59 54 70 66 18 38 64 70 \"+\n",
    "\"67 26 20 68 02 62 12 20 95 63 94 39 63 08 40 91 66 49 94 21 \"+\n",
    "\"24 55 58 05 66 73 99 26 97 17 78 78 96 83 14 88 34 89 63 72 \"+\n",
    "\"21 36 23 09 75 00 76 44 20 45 35 14 00 61 33 97 34 31 33 95 \"+\n",
    "\"78 17 53 28 22 75 31 67 15 94 03 80 04 62 16 14 09 53 56 92 \"+\n",
    "\"16 39 05 42 96 35 31 47 55 58 88 24 00 17 54 24 36 29 85 57 \"+\n",
    "\"86 56 00 48 35 71 89 07 05 44 44 37 44 60 21 58 51 54 17 58 \"+\n",
    "\"19 80 81 68 05 94 47 69 28 73 92 13 86 52 17 77 04 89 55 40 \"+\n",
    "\"04 52 08 83 97 35 99 16 07 97 57 32 16 26 26 79 33 27 98 66 \"+\n",
    "\"88 36 68 87 57 62 20 72 03 46 33 67 46 55 12 32 63 93 53 69 \"+\n",
    "\"04 42 16 73 38 25 39 11 24 94 72 18 08 46 29 32 40 62 76 36 \"+\n",
    "\"20 69 36 41 72 30 23 88 34 62 99 69 82 67 59 85 74 04 36 16 \"+\n",
    "\"20 73 35 29 78 31 90 01 74 31 49 71 48 86 81 16 23 57 05 54 \"+\n",
    "\"01 70 54 71 83 51 54 69 16 92 33 48 61 43 52 01 89 19 67 48\")\n",
    "\n",
    "l = []\n",
    "for i in range(0,20):\n",
    "    li = []\n",
    "    for j in range(0,20):\n",
    "        li.append(int(s[60*i+3*j:60*i+3*j+2]))\n",
    "    l.append(li)\n",
    "    \n",
    "max_p = 0\n",
    "\n",
    "for r in range(0,len(l)):\n",
    "    for i in range(0,len(l[r])-4):\n",
    "        p = 1\n",
    "        for j in range(0,4):\n",
    "            p = p*int(l[r][i+j])\n",
    "        if p > max_p:\n",
    "            max_p = p\n",
    "\n",
    "for c in range(0,len(l)):\n",
    "    for i in range(0,len(l[c])-4):\n",
    "        p = 1\n",
    "        for j in range(0,4):\n",
    "            p = p*int(l[i+j][c])\n",
    "        if p > max_p:\n",
    "            max_p = p\n",
    "    \n",
    "for r in range(0,len(l)-4):\n",
    "    for c in range(0,len(l)-4):\n",
    "        p = 1\n",
    "        for j in range(0,4):\n",
    "            p = p*int(l[r+j][c+j])\n",
    "        if p > max_p:\n",
    "            max_p = p\n",
    "    \n",
    "for r in range(0,len(l)-4):\n",
    "    for c in range(3,len(l)):\n",
    "        p = 1\n",
    "        for j in range(0,4):\n",
    "            p = p*int(l[r+j][c-j])\n",
    "        if p > max_p:\n",
    "            max_p = p\n",
    "    \n",
    "max_p"
   ]
  },
  {
   "cell_type": "markdown",
   "metadata": {},
   "source": [
    "## Problem 12"
   ]
  },
  {
   "cell_type": "markdown",
   "metadata": {},
   "source": [
    "### Highly divisible triangular number"
   ]
  },
  {
   "cell_type": "code",
   "execution_count": 78,
   "metadata": {},
   "outputs": [
    {
     "data": {
      "text/plain": [
       "76576500"
      ]
     },
     "execution_count": 78,
     "metadata": {},
     "output_type": "execute_result"
    }
   ],
   "source": [
    "def next_triangular(n,s):\n",
    "    return n+s\n",
    "\n",
    "def is_prime(n):\n",
    "    for i in range(2, n-1):\n",
    "        if n%i==0:\n",
    "            return False\n",
    "    return True\n",
    "\n",
    "def next_prime(n):\n",
    "    if is_prime(n+1):\n",
    "        return n+1\n",
    "    else:\n",
    "        return next_prime(n+1)\n",
    "\n",
    "def primes(n,p,l):\n",
    "    if n == 1:\n",
    "        return l\n",
    "    if n%p==0:\n",
    "        l.append(p)\n",
    "        return primes(n/p, p, l)\n",
    "    else:\n",
    "        return primes(n, next_prime(p), l)\n",
    "\n",
    "def factors(n):\n",
    "    if n == 0:\n",
    "        return 0\n",
    "    d = dict()\n",
    "    l = primes(n,2,[])\n",
    "    s = set(l)\n",
    "    for p in s:\n",
    "        d[p] = l.count(p)\n",
    "    f = 1\n",
    "    for p in d:\n",
    "        f = f*(d[p]+1)\n",
    "    return f\n",
    "    \n",
    "n = 1\n",
    "s = 0\n",
    "while(factors(s) <= 500):\n",
    "    s = next_triangular(n,s)\n",
    "    n = n + 1\n",
    "\n",
    "s"
   ]
  },
  {
   "cell_type": "markdown",
   "metadata": {},
   "source": [
    "## Problem 13"
   ]
  },
  {
   "cell_type": "markdown",
   "metadata": {},
   "source": [
    "### Large sum"
   ]
  },
  {
   "cell_type": "code",
   "execution_count": 80,
   "metadata": {},
   "outputs": [
    {
     "data": {
      "text/plain": [
       "5537376230390876637302048746832985971773659831892672"
      ]
     },
     "execution_count": 80,
     "metadata": {},
     "output_type": "execute_result"
    }
   ],
   "source": [
    "l = [37107287533902102798797998220837590246510135740250,\n",
    "46376937677490009712648124896970078050417018260538,\n",
    "74324986199524741059474233309513058123726617309629,\n",
    "91942213363574161572522430563301811072406154908250,\n",
    "23067588207539346171171980310421047513778063246676,\n",
    "89261670696623633820136378418383684178734361726757,\n",
    "28112879812849979408065481931592621691275889832738,\n",
    "44274228917432520321923589422876796487670272189318,\n",
    "47451445736001306439091167216856844588711603153276,\n",
    "70386486105843025439939619828917593665686757934951,\n",
    "62176457141856560629502157223196586755079324193331,\n",
    "64906352462741904929101432445813822663347944758178,\n",
    "92575867718337217661963751590579239728245598838407,\n",
    "58203565325359399008402633568948830189458628227828,\n",
    "80181199384826282014278194139940567587151170094390,\n",
    "35398664372827112653829987240784473053190104293586,\n",
    "86515506006295864861532075273371959191420517255829,\n",
    "71693888707715466499115593487603532921714970056938,\n",
    "54370070576826684624621495650076471787294438377604,\n",
    "53282654108756828443191190634694037855217779295145,\n",
    "36123272525000296071075082563815656710885258350721,\n",
    "45876576172410976447339110607218265236877223636045,\n",
    "17423706905851860660448207621209813287860733969412,\n",
    "81142660418086830619328460811191061556940512689692,\n",
    "51934325451728388641918047049293215058642563049483,\n",
    "62467221648435076201727918039944693004732956340691,\n",
    "15732444386908125794514089057706229429197107928209,\n",
    "55037687525678773091862540744969844508330393682126,\n",
    "18336384825330154686196124348767681297534375946515,\n",
    "80386287592878490201521685554828717201219257766954,\n",
    "78182833757993103614740356856449095527097864797581,\n",
    "16726320100436897842553539920931837441497806860984,\n",
    "48403098129077791799088218795327364475675590848030,\n",
    "87086987551392711854517078544161852424320693150332,\n",
    "59959406895756536782107074926966537676326235447210,\n",
    "69793950679652694742597709739166693763042633987085,\n",
    "41052684708299085211399427365734116182760315001271,\n",
    "65378607361501080857009149939512557028198746004375,\n",
    "35829035317434717326932123578154982629742552737307,\n",
    "94953759765105305946966067683156574377167401875275,\n",
    "88902802571733229619176668713819931811048770190271,\n",
    "25267680276078003013678680992525463401061632866526,\n",
    "36270218540497705585629946580636237993140746255962,\n",
    "24074486908231174977792365466257246923322810917141,\n",
    "91430288197103288597806669760892938638285025333403,\n",
    "34413065578016127815921815005561868836468420090470,\n",
    "23053081172816430487623791969842487255036638784583,\n",
    "11487696932154902810424020138335124462181441773470,\n",
    "63783299490636259666498587618221225225512486764533,\n",
    "67720186971698544312419572409913959008952310058822,\n",
    "95548255300263520781532296796249481641953868218774,\n",
    "76085327132285723110424803456124867697064507995236,\n",
    "37774242535411291684276865538926205024910326572967,\n",
    "23701913275725675285653248258265463092207058596522,\n",
    "29798860272258331913126375147341994889534765745501,\n",
    "18495701454879288984856827726077713721403798879715,\n",
    "38298203783031473527721580348144513491373226651381,\n",
    "34829543829199918180278916522431027392251122869539,\n",
    "40957953066405232632538044100059654939159879593635,\n",
    "29746152185502371307642255121183693803580388584903,\n",
    "41698116222072977186158236678424689157993532961922,\n",
    "62467957194401269043877107275048102390895523597457,\n",
    "23189706772547915061505504953922979530901129967519,\n",
    "86188088225875314529584099251203829009407770775672,\n",
    "11306739708304724483816533873502340845647058077308,\n",
    "82959174767140363198008187129011875491310547126581,\n",
    "97623331044818386269515456334926366572897563400500,\n",
    "42846280183517070527831839425882145521227251250327,\n",
    "55121603546981200581762165212827652751691296897789,\n",
    "32238195734329339946437501907836945765883352399886,\n",
    "75506164965184775180738168837861091527357929701337,\n",
    "62177842752192623401942399639168044983993173312731,\n",
    "32924185707147349566916674687634660915035914677504,\n",
    "99518671430235219628894890102423325116913619626622,\n",
    "73267460800591547471830798392868535206946944540724,\n",
    "76841822524674417161514036427982273348055556214818,\n",
    "97142617910342598647204516893989422179826088076852,\n",
    "87783646182799346313767754307809363333018982642090,\n",
    "10848802521674670883215120185883543223812876952786,\n",
    "71329612474782464538636993009049310363619763878039,\n",
    "62184073572399794223406235393808339651327408011116,\n",
    "66627891981488087797941876876144230030984490851411,\n",
    "60661826293682836764744779239180335110989069790714,\n",
    "85786944089552990653640447425576083659976645795096,\n",
    "66024396409905389607120198219976047599490197230297,\n",
    "64913982680032973156037120041377903785566085089252,\n",
    "16730939319872750275468906903707539413042652315011,\n",
    "94809377245048795150954100921645863754710598436791,\n",
    "78639167021187492431995700641917969777599028300699,\n",
    "15368713711936614952811305876380278410754449733078,\n",
    "40789923115535562561142322423255033685442488917353,\n",
    "44889911501440648020369068063960672322193204149535,\n",
    "41503128880339536053299340368006977710650566631954,\n",
    "81234880673210146739058568557934581403627822703280,\n",
    "82616570773948327592232845941706525094512325230608,\n",
    "22918802058777319719839450180888072429661980811197,\n",
    "77158542502016545090413245809786882778948721859617,\n",
    "72107838435069186155435662884062257473692284509516,\n",
    "20849603980134001723930671666823555245252804609722,\n",
    "53503534226472524250874054075591789781264330331690]\n",
    "\n",
    "sum(l)"
   ]
  },
  {
   "cell_type": "markdown",
   "metadata": {},
   "source": [
    "## Problem 14"
   ]
  },
  {
   "cell_type": "markdown",
   "metadata": {},
   "source": [
    "### Longest Collatz sequence"
   ]
  },
  {
   "cell_type": "code",
   "execution_count": 10,
   "metadata": {},
   "outputs": [
    {
     "data": {
      "text/plain": [
       "837799"
      ]
     },
     "execution_count": 10,
     "metadata": {},
     "output_type": "execute_result"
    }
   ],
   "source": [
    "def collatz_even(n):\n",
    "    return n/2\n",
    "\n",
    "def collatz_odd(n):\n",
    "    return 3*n+1\n",
    "\n",
    "def collatz(n):\n",
    "    if n%2==0:\n",
    "        return collatz_even(n)\n",
    "    else:\n",
    "        return collatz_odd(n)\n",
    "\n",
    "def collatz_length(n):\n",
    "    a = 1\n",
    "    while n != 1:\n",
    "        n = collatz(n)\n",
    "        a = a + 1\n",
    "    return a\n",
    "    \n",
    "longest_n = 0\n",
    "max_length = 0\n",
    "for n in range(1,1000000):\n",
    "    length = collatz_length(n)\n",
    "    if length > max_length:\n",
    "        longest_n = n\n",
    "        max_length = length\n",
    "        \n",
    "longest_n"
   ]
  },
  {
   "cell_type": "markdown",
   "metadata": {},
   "source": [
    "## Problem 15"
   ]
  },
  {
   "cell_type": "markdown",
   "metadata": {},
   "source": [
    "### Lattice paths"
   ]
  },
  {
   "cell_type": "code",
   "execution_count": 14,
   "metadata": {},
   "outputs": [
    {
     "data": {
      "text/plain": [
       "137846528820"
      ]
     },
     "execution_count": 14,
     "metadata": {},
     "output_type": "execute_result"
    }
   ],
   "source": [
    "import math\n",
    "\n",
    "def perm(i,j):\n",
    "    return int(math.factorial(i+j)/math.factorial(i)/math.factorial(j))\n",
    "\n",
    "perm(20,20)"
   ]
  },
  {
   "cell_type": "markdown",
   "metadata": {},
   "source": [
    "## Problem 16"
   ]
  },
  {
   "cell_type": "markdown",
   "metadata": {},
   "source": [
    "### Power digit sum"
   ]
  },
  {
   "cell_type": "code",
   "execution_count": 6,
   "metadata": {},
   "outputs": [
    {
     "data": {
      "text/plain": [
       "1366"
      ]
     },
     "execution_count": 6,
     "metadata": {},
     "output_type": "execute_result"
    }
   ],
   "source": [
    "def pow_sum(n,k):\n",
    "    s = str(pow(n,k))\n",
    "    a = 0\n",
    "    for i in s:\n",
    "        a = a + int(i)\n",
    "    return a\n",
    "\n",
    "pow_sum(2,1000)"
   ]
  },
  {
   "cell_type": "markdown",
   "metadata": {},
   "source": [
    "## Problem 17"
   ]
  },
  {
   "cell_type": "markdown",
   "metadata": {},
   "source": [
    "### Number letter counts"
   ]
  },
  {
   "cell_type": "code",
   "execution_count": 61,
   "metadata": {},
   "outputs": [
    {
     "data": {
      "text/plain": [
       "21124"
      ]
     },
     "execution_count": 61,
     "metadata": {},
     "output_type": "execute_result"
    }
   ],
   "source": [
    "number_lengths_base = {\n",
    "    1: 3,    # one\n",
    "    2: 3,    # two\n",
    "    3: 5,    # three\n",
    "    4: 4,    # four\n",
    "    5: 4,    # five\n",
    "    6: 3,    # six\n",
    "    7: 5,    # seven\n",
    "    8: 5,    # eight   \n",
    "    9: 4,    # nine\n",
    "    10: 3,   # ten\n",
    "    11: 6,   # eleven\n",
    "    12: 6,   # twelve\n",
    "    13: 8,   # thirteen\n",
    "    14: 8,   # fourteen\n",
    "    15: 7,   # fifteen\n",
    "    16: 7,   # sixteen\n",
    "    17: 9,   # seventeen\n",
    "    18: 8,   # eighteen\n",
    "    19: 8,   # nineteen\n",
    "    20: 6,   # twenty\n",
    "    30: 6,   # thirty\n",
    "    40: 5,   # forty\n",
    "    50: 5,   # fifty\n",
    "    60: 5,   # sixty\n",
    "    70: 7,   # seventy\n",
    "    80: 6,   # eighty\n",
    "    90: 6,   # ninety\n",
    "    100: 7,  # hundred\n",
    "    1000: 8  # thousand\n",
    "}\n",
    "\n",
    "def thousands_length(number):\n",
    "    length = 0\n",
    "    \n",
    "    thousands = int(number/1000)\n",
    "    if (thousands != 0):\n",
    "        length = length + number_lengths_base[thousands] + number_lengths_base[1000]\n",
    "        \n",
    "    return length\n",
    "      \n",
    "def hundred_length(number):\n",
    "    length = 0\n",
    "    \n",
    "    hundreds = int(number%1000/100)\n",
    "    if (hundreds != 0):\n",
    "        length = length + number_lengths_base[hundreds] + number_lengths_base[100]\n",
    "        \n",
    "    return length\n",
    "        \n",
    "def and_length(number):\n",
    "    length = 0\n",
    "    \n",
    "    hundred_reminder = number%100\n",
    "    if (number >= 100 and hundred_reminder != 0):\n",
    "        length = length + 3\n",
    "        \n",
    "    return length\n",
    "\n",
    "def remainder_length(number):\n",
    "    length = 0\n",
    "    \n",
    "    remainder = number%100\n",
    "    \n",
    "    if (remainder == 0):\n",
    "        length = 0\n",
    "    elif (remainder <= 20 or remainder % 10 == 0):\n",
    "        length = number_lengths_base[remainder]\n",
    "    else:\n",
    "        ones = remainder%10\n",
    "        length = length + number_lengths_base[ones]\n",
    "        tens = remainder - ones\n",
    "        length = length + number_lengths_base[tens]\n",
    "        \n",
    "    return length\n",
    "\n",
    "def number_length(number):\n",
    "    length = 0\n",
    "    \n",
    "    length = length + thousands_length(number)\n",
    "    length = length + hundred_length(number)\n",
    "    length = length + and_length(number)\n",
    "    length = length + remainder_length(number)\n",
    "    \n",
    "    return length \n",
    "    \n",
    "def range_length(number):\n",
    "    length = 0\n",
    "    for i in range(1, number+1):\n",
    "        length = length + number_length(i)\n",
    "    \n",
    "    return length\n",
    "\n",
    "\n",
    "range_length(1000)"
   ]
  },
  {
   "cell_type": "markdown",
   "metadata": {},
   "source": [
    "## Problem 18"
   ]
  },
  {
   "cell_type": "markdown",
   "metadata": {},
   "source": [
    "### Maximum path sum I"
   ]
  },
  {
   "cell_type": "code",
   "execution_count": 84,
   "metadata": {},
   "outputs": [
    {
     "data": {
      "text/plain": [
       "1074"
      ]
     },
     "execution_count": 84,
     "metadata": {},
     "output_type": "execute_result"
    }
   ],
   "source": [
    "triangle = [[75],[95,64],[17,47,82],[18,35,87,10],[20,4,82,47,65],[19,1,23,75,3,34],[88,2,77,73,7,63,67],[99,65,4,28,6,16,70,92],[41,41,26,56,83,40,80,70,33],[41,48,72,33,47,32,37,16,94,29],[53,71,44,65,25,43,91,52,97,51,14],[70,11,33,28,77,73,17,78,39,68,17,57],[91,71,52,38,17,14,91,43,58,50,27,29,48],[63,66,4,68,89,53,67,30,73,16,69,87,40,31],[4,62,98,27,23,9,70,98,73,93,38,53,60,4,23]]\n",
    "\n",
    "def next_level(height, pos, acc):\n",
    "    if (height == len(triangle)):\n",
    "        return acc\n",
    "    current = triangle[height][pos]\n",
    "    left_path = next_level(height+1, pos, acc+current)\n",
    "    right_path = next_level(height+1, pos+1, acc+current)\n",
    "    \n",
    "    return max(left_path, right_path)\n",
    "\n",
    "next_level(0,0,0)"
   ]
  },
  {
   "cell_type": "markdown",
   "metadata": {},
   "source": [
    "## Problem 19"
   ]
  },
  {
   "cell_type": "markdown",
   "metadata": {},
   "source": [
    "### Counting Sundays"
   ]
  },
  {
   "cell_type": "code",
   "execution_count": 10,
   "metadata": {},
   "outputs": [
    {
     "data": {
      "text/plain": [
       "171"
      ]
     },
     "execution_count": 10,
     "metadata": {},
     "output_type": "execute_result"
    }
   ],
   "source": [
    "def month_length(year, month):\n",
    "    if (month in [1,3,5,7,8,10,12]):\n",
    "        return 31\n",
    "    if (month in [4,6,9,11]):\n",
    "        return 30\n",
    "    if ((year%4 == 0 and year%100 != 0) or year%400 == 0):\n",
    "        return 29\n",
    "    return 28\n",
    "\n",
    "\n",
    "def next_month_start(year, month, this_month_start):\n",
    "    return (this_month_start + month_length(year, month)) % 7\n",
    "\n",
    "\n",
    "# Calculating 1st of January 1901\n",
    "day = 0\n",
    "\n",
    "for month in range(1,13):\n",
    "    day = next_month_start(1900, month, day)\n",
    "    \n",
    "sundays = 0\n",
    "for year in range(1901, 2001):\n",
    "    for month in range(1,13):\n",
    "        if (day == 6):\n",
    "            sundays = sundays + 1\n",
    "        day = next_month_start(year, month, day)\n",
    "        \n",
    "sundays"
   ]
  },
  {
   "cell_type": "markdown",
   "metadata": {},
   "source": [
    "## Problem 20"
   ]
  },
  {
   "cell_type": "markdown",
   "metadata": {},
   "source": [
    "### Factorial digit sum"
   ]
  },
  {
   "cell_type": "code",
   "execution_count": 15,
   "metadata": {},
   "outputs": [
    {
     "data": {
      "text/plain": [
       "648"
      ]
     },
     "execution_count": 15,
     "metadata": {},
     "output_type": "execute_result"
    }
   ],
   "source": [
    "import math\n",
    "\n",
    "def fact_sum(n):\n",
    "    s = str(math.factorial(n))\n",
    "    a = 0\n",
    "    for i in s:\n",
    "        a = a + int(i)\n",
    "    return a\n",
    "\n",
    "fact_sum(100)"
   ]
  },
  {
   "cell_type": "markdown",
   "metadata": {},
   "source": [
    "## Problem 21"
   ]
  },
  {
   "cell_type": "markdown",
   "metadata": {},
   "source": [
    "### Amicable numbers"
   ]
  },
  {
   "cell_type": "code",
   "execution_count": 33,
   "metadata": {},
   "outputs": [
    {
     "data": {
      "text/plain": [
       "31626"
      ]
     },
     "execution_count": 33,
     "metadata": {},
     "output_type": "execute_result"
    }
   ],
   "source": [
    "import math\n",
    "\n",
    "def divisors(n):\n",
    "    divs = []\n",
    "    for d in range(1, int(math.sqrt(n))+1):\n",
    "        if (n%d == 0):\n",
    "            divs.append(d)\n",
    "            if (d != 1):\n",
    "                divs.append(int(n/d))\n",
    "    return divs\n",
    "\n",
    "def div_sum(n):\n",
    "    divs = divisors(n)\n",
    "    return sum(divs)\n",
    "\n",
    "div_sums = {}\n",
    "amicables = []\n",
    "\n",
    "for i in range(1, 10000):\n",
    "    ds = div_sum(i)\n",
    "    if (ds >= i):\n",
    "        div_sums[ds] = i\n",
    "    elif (i in div_sums and div_sums[i] == ds):\n",
    "        amicables.append(i)\n",
    "        amicables.append(ds)\n",
    "        \n",
    "sum(amicables)"
   ]
  },
  {
   "cell_type": "markdown",
   "metadata": {},
   "source": [
    "## Problem 22"
   ]
  },
  {
   "cell_type": "markdown",
   "metadata": {},
   "source": [
    "### Names scores"
   ]
  },
  {
   "cell_type": "code",
   "execution_count": 46,
   "metadata": {},
   "outputs": [
    {
     "data": {
      "text/plain": [
       "871198282"
      ]
     },
     "execution_count": 46,
     "metadata": {},
     "output_type": "execute_result"
    }
   ],
   "source": [
    "def letter_value(letter):\n",
    "    return ord(letter)-64\n",
    "\n",
    "def name_value(name):\n",
    "    value = 0\n",
    "    for letter in name:\n",
    "        value = value + letter_value(letter)\n",
    "    return value\n",
    "\n",
    "with open(\"p022_names.txt\") as f:\n",
    "    s = f.read()\n",
    "\n",
    "s = s.replace('\"', '')\n",
    "names = s.split(',')\n",
    "names = sorted(names)\n",
    "\n",
    "score = 0\n",
    "\n",
    "for position in range(1, len(names)+1):\n",
    "    name = names[position-1]\n",
    "    value = name_value(name)\n",
    "    score = score+(value*position)\n",
    "    \n",
    "score"
   ]
  },
  {
   "cell_type": "markdown",
   "metadata": {},
   "source": [
    "## Problem 23"
   ]
  },
  {
   "cell_type": "markdown",
   "metadata": {},
   "source": [
    "### Non-abundant sums"
   ]
  },
  {
   "cell_type": "code",
   "execution_count": 10,
   "metadata": {},
   "outputs": [
    {
     "data": {
      "text/plain": [
       "4179871"
      ]
     },
     "execution_count": 10,
     "metadata": {},
     "output_type": "execute_result"
    }
   ],
   "source": [
    "import math\n",
    "\n",
    "def divisors(n):\n",
    "    divs = set()\n",
    "    for d in range(1, int(math.sqrt(n))+1):\n",
    "        if (n%d == 0):\n",
    "            divs.add(d)\n",
    "            if (d != 1):\n",
    "                divs.add(int(n/d))\n",
    "    return divs\n",
    "\n",
    "def div_sum(n):\n",
    "    divs = divisors(n)\n",
    "    return sum(divs)\n",
    "\n",
    "def is_abundant(n):\n",
    "    divsum = div_sum(n)\n",
    "    return divsum > n\n",
    "\n",
    "def abundants(limit):\n",
    "    ab = []\n",
    "    for i in range(1,limit):\n",
    "        if (is_abundant(i)):\n",
    "            ab.append(i)\n",
    "    return ab\n",
    "\n",
    "ab = abundants(28124)\n",
    "sums = {i+j for i in ab for j in ab}\n",
    "\n",
    "non_abundants = list(filter(lambda i: i not in sums, range(1,28124)))\n",
    "\n",
    "sum(non_abundants)"
   ]
  },
  {
   "cell_type": "markdown",
   "metadata": {},
   "source": [
    "## Problem 24"
   ]
  },
  {
   "cell_type": "markdown",
   "metadata": {},
   "source": [
    "### Lexicographic permutations"
   ]
  },
  {
   "cell_type": "code",
   "execution_count": 11,
   "metadata": {},
   "outputs": [
    {
     "data": {
      "text/plain": [
       "2783915460"
      ]
     },
     "execution_count": 11,
     "metadata": {},
     "output_type": "execute_result"
    }
   ],
   "source": [
    "import math\n",
    "\n",
    "numbers = list(range(0,10))\n",
    "solution = []\n",
    "reserve = 999999\n",
    "\n",
    "def calculate_next(reserve):\n",
    "    permutations = math.factorial(len(numbers) - 1)\n",
    "    index = int(reserve/permutations)\n",
    "    solution.append(numbers[index])\n",
    "    del numbers[index]\n",
    "    return reserve - (index * permutations)\n",
    "\n",
    "for i in range(0,10):\n",
    "    reserve = calculate_next(reserve)\n",
    "    \n",
    "int(''.join(str(n) for n in solution))"
   ]
  },
  {
   "cell_type": "markdown",
   "metadata": {},
   "source": [
    "## Problem 25"
   ]
  },
  {
   "cell_type": "markdown",
   "metadata": {},
   "source": [
    "### 1000-digit Fibonacci number"
   ]
  },
  {
   "cell_type": "code",
   "execution_count": 23,
   "metadata": {},
   "outputs": [
    {
     "data": {
      "text/plain": [
       "4782"
      ]
     },
     "execution_count": 23,
     "metadata": {},
     "output_type": "execute_result"
    }
   ],
   "source": [
    "def fibonacci(i1,i2, depth, digits):\n",
    "    while (i2 / (10**(digits-1))) < 1:\n",
    "        acc = i1+i2\n",
    "        i1 = i2\n",
    "        i2 = acc\n",
    "        depth = depth + 1\n",
    "    return depth\n",
    "    \n",
    "fibonacci(1,1,2,1000)"
   ]
  },
  {
   "cell_type": "markdown",
   "metadata": {},
   "source": [
    "## Problem 26"
   ]
  },
  {
   "cell_type": "markdown",
   "metadata": {},
   "source": [
    "### Reciprocal cycles"
   ]
  },
  {
   "cell_type": "code",
   "execution_count": 44,
   "metadata": {},
   "outputs": [
    {
     "data": {
      "text/plain": [
       "983"
      ]
     },
     "execution_count": 44,
     "metadata": {},
     "output_type": "execute_result"
    }
   ],
   "source": [
    "def period_length(d):\n",
    "    n = 1\n",
    "    while ((10**n)) % d != 1:\n",
    "        n = n + 1\n",
    "    return (n,d)\n",
    "\n",
    "n_max = 0\n",
    "d_max = 0\n",
    "\n",
    "for i in range(2,1000):\n",
    "    if (i % 2 != 0 and i % 5 != 0):\n",
    "        (n,d) = period_length(i)\n",
    "        if (n > n_max):\n",
    "            n_max = n\n",
    "            d_max = d\n",
    "\n",
    "d_max"
   ]
  },
  {
   "cell_type": "markdown",
   "metadata": {},
   "source": [
    "## Problem 27"
   ]
  },
  {
   "cell_type": "markdown",
   "metadata": {},
   "source": [
    "### Quadratic primes"
   ]
  },
  {
   "cell_type": "code",
   "execution_count": 91,
   "metadata": {},
   "outputs": [
    {
     "data": {
      "text/plain": [
       "-59231"
      ]
     },
     "execution_count": 91,
     "metadata": {},
     "output_type": "execute_result"
    }
   ],
   "source": [
    "def calculate_formula(a,b,n):\n",
    "    return n*n + a*n + b\n",
    "\n",
    "primes = []\n",
    "\n",
    "def is_prime(n):\n",
    "    if n < 2:\n",
    "        return False\n",
    "    if n in primes:\n",
    "        return True\n",
    "    for i in range(2, n-1):\n",
    "        if n%i==0:\n",
    "            return False\n",
    "    primes.append(n)\n",
    "    return True\n",
    "    \n",
    "def get_primes(a,b):\n",
    "    n = 0\n",
    "    while is_prime(calculate_formula(a,b,n)):\n",
    "        n = n + 1\n",
    "    return n\n",
    "\n",
    "max_primes = 0\n",
    "max_coefficient = 0\n",
    "\n",
    "for a in range(-999,1000):\n",
    "    for b in range(-1000,1001):\n",
    "        prime_count = get_primes(a,b)\n",
    "        if (prime_count > max_primes):\n",
    "            max_primes = prime_count\n",
    "            max_coefficient = a*b\n",
    "            \n",
    "max_coefficient"
   ]
  },
  {
   "cell_type": "markdown",
   "metadata": {},
   "source": [
    "## Problem 28"
   ]
  },
  {
   "cell_type": "markdown",
   "metadata": {},
   "source": [
    "### Number spiral diagonals"
   ]
  },
  {
   "cell_type": "code",
   "execution_count": 93,
   "metadata": {},
   "outputs": [
    {
     "data": {
      "text/plain": [
       "669171001"
      ]
     },
     "execution_count": 93,
     "metadata": {},
     "output_type": "execute_result"
    }
   ],
   "source": [
    "def corner_diffs(n):\n",
    "    return n-1\n",
    "\n",
    "def max_corner(n):\n",
    "    return n*n\n",
    "\n",
    "def corner_sum(n):\n",
    "    if n == 1:\n",
    "        return 1\n",
    "    return 4*max_corner(n) - 6*corner_diffs(n)\n",
    "\n",
    "def spiral_sum(n):\n",
    "    spiral_sum = 0\n",
    "    for i in range(1,n+1):\n",
    "        if (i % 2 != 0):\n",
    "            spiral_sum = spiral_sum + corner_sum(i)\n",
    "    return spiral_sum\n",
    "\n",
    "spiral_sum(1001)"
   ]
  },
  {
   "cell_type": "markdown",
   "metadata": {},
   "source": [
    "## Problem 29"
   ]
  },
  {
   "cell_type": "markdown",
   "metadata": {},
   "source": [
    "### Distinct powers"
   ]
  },
  {
   "cell_type": "code",
   "execution_count": 98,
   "metadata": {},
   "outputs": [
    {
     "data": {
      "text/plain": [
       "9183"
      ]
     },
     "execution_count": 98,
     "metadata": {},
     "output_type": "execute_result"
    }
   ],
   "source": [
    "def list_pows(a_min, a_max, b_min, b_max):\n",
    "    pows = set()\n",
    "    for a in range(a_min, a_max+1):\n",
    "        for b in range(b_min, b_max+1):\n",
    "            pows.add(a**b)\n",
    "    return pows\n",
    "            \n",
    "len(list_pows(2,100,2,100))"
   ]
  },
  {
   "cell_type": "markdown",
   "metadata": {},
   "source": [
    "## Problem 30"
   ]
  },
  {
   "cell_type": "markdown",
   "metadata": {},
   "source": [
    "### Digit fifth powers"
   ]
  },
  {
   "cell_type": "code",
   "execution_count": 109,
   "metadata": {},
   "outputs": [
    {
     "data": {
      "text/plain": [
       "443839"
      ]
     },
     "execution_count": 109,
     "metadata": {},
     "output_type": "execute_result"
    }
   ],
   "source": [
    "ceiling = (9**5)*6\n",
    "\n",
    "def digit_powers(n, power):\n",
    "    digit_sum = 0\n",
    "    while n > 0:\n",
    "        digit = n % 10\n",
    "        digit_sum = digit_sum + digit**power\n",
    "        n = int(n/10)\n",
    "    return digit_sum\n",
    "\n",
    "#for n in range(10, ceiling+1):\n",
    "pow_sum = 0\n",
    "for n in range(10, ceiling):\n",
    "    digit_pow_sum = digit_powers(n,5)\n",
    "    if digit_pow_sum == n:\n",
    "        pow_sum = pow_sum + digit_pow_sum\n",
    "    \n",
    "pow_sum"
   ]
  },
  {
   "cell_type": "markdown",
   "metadata": {},
   "source": [
    "## Problem 31"
   ]
  },
  {
   "cell_type": "markdown",
   "metadata": {},
   "source": [
    "### Coin sums"
   ]
  },
  {
   "cell_type": "code",
   "execution_count": 171,
   "metadata": {},
   "outputs": [
    {
     "data": {
      "text/plain": [
       "73682"
      ]
     },
     "execution_count": 171,
     "metadata": {},
     "output_type": "execute_result"
    }
   ],
   "source": [
    "coins = [1,2,5,10,20,50,100,200]\n",
    "\n",
    "def pay_with_max(target, max_coin_index):\n",
    "    if (coins[max_coin_index] == 1):\n",
    "        return 1\n",
    "    solutions = 0\n",
    "    max_coin = coins[max_coin_index]\n",
    "    for i in range(0,int(target/coins[max_coin_index])+1):\n",
    "        solutions = solutions + pay_with_max(target-i*max_coin, max_coin_index-1)\n",
    "    return solutions\n",
    "\n",
    "pay_with_max(200,coins.index(200))"
   ]
  },
  {
   "cell_type": "markdown",
   "metadata": {},
   "source": [
    "### Problem 32"
   ]
  },
  {
   "cell_type": "markdown",
   "metadata": {},
   "source": [
    "### Pandigital products"
   ]
  },
  {
   "cell_type": "code",
   "execution_count": 220,
   "metadata": {},
   "outputs": [
    {
     "data": {
      "text/plain": [
       "45228"
      ]
     },
     "execution_count": 220,
     "metadata": {},
     "output_type": "execute_result"
    }
   ],
   "source": [
    "import itertools\n",
    "\n",
    "perms = list(itertools.permutations(range(1,10)))\n",
    "marker_candidates = list(range(1,9))\n",
    "markers = []\n",
    "\n",
    "for i in marker_candidates:\n",
    "    for j in marker_candidates:\n",
    "        if i < j:\n",
    "            markers.append((i,j))\n",
    "            \n",
    "separations = list(itertools.product(perms, markers))\n",
    "\n",
    "products = set()\n",
    "\n",
    "for s in separations:\n",
    "    a = int(''.join(str(x) for x in s[0][0:s[1][0]]))\n",
    "    b = int(''.join(str(x) for x in s[0][s[1][0]:s[1][1]]))\n",
    "    c = int(''.join(str(x) for x in s[0][s[1][1]:]))\n",
    "    if a*b == c:\n",
    "        products.add(c)\n",
    "        \n",
    "sum(products)"
   ]
  },
  {
   "cell_type": "markdown",
   "metadata": {},
   "source": [
    "## Problem 33"
   ]
  },
  {
   "cell_type": "markdown",
   "metadata": {},
   "source": [
    "### Digit cancelling fractions"
   ]
  },
  {
   "cell_type": "code",
   "execution_count": 17,
   "metadata": {},
   "outputs": [
    {
     "data": {
      "text/plain": [
       "(1, 100)"
      ]
     },
     "execution_count": 17,
     "metadata": {},
     "output_type": "execute_result"
    }
   ],
   "source": [
    "def simplify(n,d):\n",
    "    i = 2\n",
    "    while i <= n and i <= d:\n",
    "        while n % i == 0 and d % i == 0:\n",
    "            n = n/i\n",
    "            d = d/i\n",
    "        i = i + 1\n",
    "    return (int(n), int(d))\n",
    "\n",
    "def cancel(n,d):\n",
    "    possibilities = []\n",
    "    n1 = int(n/10)\n",
    "    n2 = n % 10\n",
    "    d1 = int(d/10)\n",
    "    d2 = d % 10\n",
    "    if n1 != 0 and n2 != 0 and d1 != 0 and d2 != 0:\n",
    "        if n1 == d1:\n",
    "            possibilities.append((n2,d2))\n",
    "        if n1 == d2:\n",
    "            possibilities.append((n2,d1))\n",
    "        if n2 == d1:\n",
    "            possibilities.append((n1,d2))\n",
    "        if n2 == d2:\n",
    "            possibilities.append((n1,d1))\n",
    "    return possibilities\n",
    "    \n",
    "def cancellable(n,d):\n",
    "    simplest = simplify(n,d)\n",
    "    possibilities = cancel(n,d)\n",
    "    for p in possibilities:\n",
    "        if simplify(p[0],p[1]) == simplest:\n",
    "            return True\n",
    "    return False\n",
    "\n",
    "nontrivials = []\n",
    "\n",
    "for n in range(10,100):\n",
    "    for d in range(n+1,100):\n",
    "        if cancellable(n,d):\n",
    "            nontrivials.append((n,d))\n",
    "            \n",
    "prod_n = 1\n",
    "prod_d = 1\n",
    "            \n",
    "for f in nontrivials:\n",
    "    prod_n = prod_n * f[0]\n",
    "    prod_d = prod_d * f[1]\n",
    "    \n",
    "simplify(prod_n, prod_d)"
   ]
  },
  {
   "cell_type": "markdown",
   "metadata": {},
   "source": [
    "## Problem 34"
   ]
  },
  {
   "cell_type": "markdown",
   "metadata": {},
   "source": [
    "### Digit factorials"
   ]
  },
  {
   "cell_type": "code",
   "execution_count": 26,
   "metadata": {},
   "outputs": [
    {
     "data": {
      "text/plain": [
       "40730"
      ]
     },
     "execution_count": 26,
     "metadata": {},
     "output_type": "execute_result"
    }
   ],
   "source": [
    "import math\n",
    "\n",
    "ceiling = math.factorial(9)*7\n",
    "\n",
    "def digit_factorial_sum(n):\n",
    "    f_sum = 0\n",
    "    while n != 0:\n",
    "        f_sum = f_sum + math.factorial(n%10)\n",
    "        n = int((n - n %10)/10)\n",
    "    return f_sum\n",
    "\n",
    "f_sum = 0\n",
    "for n in range(10,ceiling):\n",
    "    if digit_factorial_sum(n) == n:\n",
    "        f_sum = f_sum + n\n",
    "        \n",
    "f_sum"
   ]
  },
  {
   "cell_type": "markdown",
   "metadata": {},
   "source": [
    "## Problem 35"
   ]
  },
  {
   "cell_type": "markdown",
   "metadata": {},
   "source": [
    "### Circular primes"
   ]
  },
  {
   "cell_type": "code",
   "execution_count": 60,
   "metadata": {},
   "outputs": [
    {
     "data": {
      "text/plain": [
       "55"
      ]
     },
     "execution_count": 60,
     "metadata": {},
     "output_type": "execute_result"
    }
   ],
   "source": [
    "primes= []\n",
    "\n",
    "def candidate_prime(n):\n",
    "    for p in primes:\n",
    "        if n%p==0:\n",
    "            return False\n",
    "    primes.append(n)\n",
    "    return True\n",
    "\n",
    "for n in range(2,1000000):\n",
    "    candidate_prime(n)\n",
    "\n",
    "def is_prime(n):\n",
    "    return n in primes\n",
    "    \n",
    "def rotations(n):\n",
    "    rots = []\n",
    "    m = n\n",
    "    while True:\n",
    "        m = int(m/10) + (m%10)*(10**((len(str(m)))-1))\n",
    "        rots.append(m)\n",
    "        if n == m: break\n",
    "    return rots\n",
    "    \n",
    "def is_circular_prime(n):\n",
    "    if '0' in str(n):\n",
    "        return False\n",
    "    rots = rotations(n)\n",
    "    for r in rots:\n",
    "        if not is_prime(r):\n",
    "            return False\n",
    "    return True\n",
    "  \n",
    "circulars = []\n",
    "    \n",
    "for n in range(2,1000000):\n",
    "    if is_circular_prime(n):\n",
    "        circulars.append(n)\n",
    "    \n",
    "len(circulars)"
   ]
  },
  {
   "cell_type": "markdown",
   "metadata": {},
   "source": [
    "## Problem 36"
   ]
  },
  {
   "cell_type": "markdown",
   "metadata": {},
   "source": [
    "### Double-base palindromes"
   ]
  },
  {
   "cell_type": "code",
   "execution_count": 70,
   "metadata": {},
   "outputs": [
    {
     "data": {
      "text/plain": [
       "872187"
      ]
     },
     "execution_count": 70,
     "metadata": {},
     "output_type": "execute_result"
    }
   ],
   "source": [
    "def is_palindrom(n):\n",
    "    return str(n) == str(n)[::-1]\n",
    "\n",
    "def to_bin(n):\n",
    "    return bin(n)[2:]\n",
    "\n",
    "def is_double_base_palindrom(n):\n",
    "    return is_palindrom(n) and is_palindrom(to_bin(n))\n",
    "\n",
    "dbps = []\n",
    "\n",
    "for n in range(1,1000000):\n",
    "    if is_double_base_palindrom(n):\n",
    "        dbps.append(n)\n",
    "        \n",
    "sum(dbps)"
   ]
  },
  {
   "cell_type": "markdown",
   "metadata": {},
   "source": [
    "## Problem 37"
   ]
  },
  {
   "cell_type": "markdown",
   "metadata": {},
   "source": [
    "### Truncatable primes"
   ]
  },
  {
   "cell_type": "code",
   "execution_count": 120,
   "metadata": {},
   "outputs": [
    {
     "data": {
      "text/plain": [
       "748317"
      ]
     },
     "execution_count": 120,
     "metadata": {},
     "output_type": "execute_result"
    }
   ],
   "source": [
    "primes = [2,3,5]\n",
    "\n",
    "def candidate_prime(n):\n",
    "    for p in primes:\n",
    "        if n%p==0:\n",
    "            return False\n",
    "    primes.append(n)\n",
    "    return True\n",
    "\n",
    "def is_prime(n):\n",
    "    if n < 2:\n",
    "        return False\n",
    "    max_prime = primes[len(primes) - 1]\n",
    "    if n > max_prime:\n",
    "        for i in range(max_prime, n+1):\n",
    "            candidate_prime(i)\n",
    "    return n in primes\n",
    "   \n",
    "def is_truncatable(n):\n",
    "    string = str(n)\n",
    "    for i in range(0,len(string)):\n",
    "        trunc = int(string[len(string)-1-i:len(string)])\n",
    "        if not is_prime(trunc):\n",
    "            return False\n",
    "        trunc = int(string[0:i+1])\n",
    "        if not is_prime(trunc):\n",
    "            return False\n",
    "    return True\n",
    "\n",
    "truncatable = []\n",
    "\n",
    "n = 10\n",
    "while len(truncatable) < 11:\n",
    "    if is_truncatable(n):\n",
    "        truncatable.append(n)\n",
    "    n += 1\n",
    "\n",
    "sum(truncatable)"
   ]
  },
  {
   "cell_type": "markdown",
   "metadata": {},
   "source": [
    "## Problem 38"
   ]
  },
  {
   "cell_type": "markdown",
   "metadata": {},
   "source": [
    "### Pandigital multiples"
   ]
  },
  {
   "cell_type": "code",
   "execution_count": 5,
   "metadata": {},
   "outputs": [
    {
     "data": {
      "text/plain": [
       "{'a', 'd', 'f', 'g', 's'}"
      ]
     },
     "execution_count": 5,
     "metadata": {},
     "output_type": "execute_result"
    }
   ],
   "source": [
    "set('asdfgas')"
   ]
  },
  {
   "cell_type": "code",
   "execution_count": 9,
   "metadata": {},
   "outputs": [
    {
     "data": {
      "text/plain": [
       "932718654"
      ]
     },
     "execution_count": 9,
     "metadata": {},
     "output_type": "execute_result"
    }
   ],
   "source": [
    "min_n = 1\n",
    "max_n = 10000\n",
    "\n",
    "def can_be_valid(n):\n",
    "    string = str(n)\n",
    "    if '0' in string:\n",
    "        return False\n",
    "    digits = set(str(n))\n",
    "    if len(string) != len(digits):\n",
    "        return False\n",
    "    return True\n",
    "    \n",
    "def multi_concat(n):\n",
    "    i = 2\n",
    "    a = n\n",
    "    while len(str(a)) < 9:\n",
    "        a = int(str(a) + str(n*i))\n",
    "        i += 1\n",
    "        if not can_be_valid(a):\n",
    "            return 0\n",
    "    return a\n",
    "\n",
    "max_a = 0\n",
    "for n in range(min_n, max_n):\n",
    "    a = multi_concat(n)\n",
    "    if a > max_a:\n",
    "        max_a = a\n",
    "        \n",
    "max_a"
   ]
  },
  {
   "cell_type": "markdown",
   "metadata": {},
   "source": [
    "## Problem 39"
   ]
  },
  {
   "cell_type": "markdown",
   "metadata": {},
   "source": [
    "### Integer right triangles"
   ]
  },
  {
   "cell_type": "code",
   "execution_count": 41,
   "metadata": {},
   "outputs": [
    {
     "data": {
      "text/plain": [
       "840"
      ]
     },
     "execution_count": 41,
     "metadata": {},
     "output_type": "execute_result"
    }
   ],
   "source": [
    "def calculate_c(a,b,p):\n",
    "    return p-a-b\n",
    "\n",
    "def calculate_b(a,p):\n",
    "    # because right triangle\n",
    "    return (p/2-a)/(1-(a/p))\n",
    "    \n",
    "def is_valid(a,b,c):\n",
    "    return a > 0 and b > 0 and c > 0 and b.is_integer()\n",
    "    \n",
    "def list_options(p):\n",
    "    valid = []\n",
    "    for a in range(1,p):\n",
    "        b = calculate_b(a,p)\n",
    "        if b < a:\n",
    "            continue\n",
    "        c = calculate_c(a,b,p)\n",
    "        if is_valid(a,b,c):\n",
    "            valid.append((a,int(b),int(c)))\n",
    "    return valid\n",
    "\n",
    "sols_max = 0\n",
    "p_max = 0\n",
    "for p in range(1,1001):\n",
    "    sols = len(list_options(p))\n",
    "    if sols > sols_max:\n",
    "        sols_max = sols\n",
    "        p_max = p\n",
    "        \n",
    "p_max"
   ]
  },
  {
   "cell_type": "markdown",
   "metadata": {},
   "source": [
    "## Problem 40"
   ]
  },
  {
   "cell_type": "markdown",
   "metadata": {},
   "source": [
    "### Champernowne's constant"
   ]
  },
  {
   "cell_type": "code",
   "execution_count": 162,
   "metadata": {},
   "outputs": [
    {
     "data": {
      "text/plain": [
       "210"
      ]
     },
     "execution_count": 162,
     "metadata": {},
     "output_type": "execute_result"
    }
   ],
   "source": [
    "import math\n",
    "\n",
    "def calc_mag_limit(mag):\n",
    "    a = 0\n",
    "    for m in range(1,mag):\n",
    "        a += m*9*10**(m-1)\n",
    "    return a\n",
    "\n",
    "def calc_digit(n, mag):\n",
    "    mag_limit = calc_mag_limit(mag)\n",
    "    mag_start = n-mag_limit-1\n",
    "    index = int(mag_start / mag)\n",
    "    number = 10**(mag-1) + index\n",
    "    digit_index = ((n-mag_limit-1) % mag)\n",
    "    return int(str(number)[digit_index])\n",
    "    \n",
    "\n",
    "def digit(n):\n",
    "    d = 6\n",
    "    while d > 0:\n",
    "        if n > calc_mag_limit(d):\n",
    "            return calc_digit(n,d)\n",
    "        d -= 1\n",
    "\n",
    "p = 1\n",
    "        \n",
    "for n in range(0,7):\n",
    "    p *= digit(10**n)\n",
    "    \n",
    "p"
   ]
  }
 ],
 "metadata": {
  "kernelspec": {
   "display_name": "Python 3",
   "language": "python",
   "name": "python3"
  },
  "language_info": {
   "codemirror_mode": {
    "name": "ipython",
    "version": 3
   },
   "file_extension": ".py",
   "mimetype": "text/x-python",
   "name": "python",
   "nbconvert_exporter": "python",
   "pygments_lexer": "ipython3",
   "version": "3.6.3"
  }
 },
 "nbformat": 4,
 "nbformat_minor": 2
} 
