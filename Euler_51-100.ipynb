{
 "cells": [
  {
   "cell_type": "markdown",
   "metadata": {},
   "source": [
    "## Problem 51"
   ]
  },
  {
   "cell_type": "markdown",
   "metadata": {},
   "source": [
    "### Prime digit replacements"
   ]
  },
  {
   "cell_type": "code",
   "execution_count": 65,
   "metadata": {},
   "outputs": [
    {
     "data": {
      "text/plain": [
       "{121313, 222323, 323333, 424343, 525353, 626363, 828383, 929393}"
      ]
     },
     "execution_count": 65,
     "metadata": {},
     "output_type": "execute_result"
    }
   ],
   "source": [
    "import itertools\n",
    "\n",
    "limit_pow = 8\n",
    "limit = 10**limit_pow\n",
    "\n",
    "def prime_sieve(n):\n",
    "    sieve = [True] * (int(n/2))\n",
    "    for i in range(3, int(n**0.5)+1, 2):\n",
    "        if sieve[int(i/2)]:\n",
    "            sieve[int(i*i/2)::i] = [False] * int((n - i*i - 1) / (2 * i) + 1)\n",
    "    return [2] + [2 * i + 1 for i in range(1, int(n/2)) if sieve[i]]\n",
    "\n",
    "primes = prime_sieve(limit)\n",
    "\n",
    "def create_number(n, d):\n",
    "    return int(n.replace('*', str(d)))\n",
    "    \n",
    "def create_base(n, digits):\n",
    "    s = str(n)\n",
    "    base = ''\n",
    "    digs = set([s[d-1] for d in digits])\n",
    "    if len(digs) != 1:\n",
    "        return base\n",
    "    l = 0\n",
    "    for d in digits:\n",
    "        base += s[l:d-1] + '*'\n",
    "        l = d\n",
    "    base += s[l:]\n",
    "    return base\n",
    "    \n",
    "def prime_family(n):\n",
    "    prime_family = []\n",
    "    start = 0\n",
    "    if n[0] == '*':\n",
    "        start = 1\n",
    "    for d in range(start,10):\n",
    "        candidate = create_number(n, d)\n",
    "        if candidate in primes:\n",
    "            prime_family.append(candidate)\n",
    "    \n",
    "    return prime_family\n",
    "\n",
    "size = 8\n",
    "solved = False\n",
    "\n",
    "combinations = {}\n",
    "for i in range(1, limit_pow+1):\n",
    "    if i not in combinations:\n",
    "        combinations[i] = []\n",
    "    for k in range(1,i):    \n",
    "        combinations[i].extend([list(j) for j in list(itertools.combinations(range(1,i), k))])\n",
    "\n",
    "while not solved:\n",
    "    bases = {}\n",
    "    for n in primes:\n",
    "        for d in combinations[len(str(n))]:\n",
    "            base = create_base(n, d)\n",
    "            if base != '':\n",
    "                if base in bases:\n",
    "                    bases[base].add(n)\n",
    "                    if len(bases[base]) >= size:\n",
    "                        solved = True\n",
    "                        break\n",
    "                else:\n",
    "                    bases[base] = set([n])\n",
    "        if solved:\n",
    "            break\n",
    "\n",
    "bases[base]"
   ]
  }
 ],
 "metadata": {
  "kernelspec": {
   "display_name": "Python 3",
   "language": "python",
   "name": "python3"
  },
  "language_info": {
   "codemirror_mode": {
    "name": "ipython",
    "version": 3
   },
   "file_extension": ".py",
   "mimetype": "text/x-python",
   "name": "python",
   "nbconvert_exporter": "python",
   "pygments_lexer": "ipython3",
   "version": "3.6.3"
  }
 },
 "nbformat": 4,
 "nbformat_minor": 2
}
