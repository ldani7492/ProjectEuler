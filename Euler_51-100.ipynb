{
 "cells": [
  {
   "cell_type": "markdown",
   "metadata": {},
   "source": [
    "# Project Euler"
   ]
  },
  {
   "cell_type": "markdown",
   "metadata": {},
   "source": [
    "## Problem 51"
   ]
  },
  {
   "cell_type": "markdown",
   "metadata": {},
   "source": [
    "### Prime digit replacements"
   ]
  },
  {
   "cell_type": "code",
   "execution_count": 65,
   "metadata": {},
   "outputs": [
    {
     "data": {
      "text/plain": [
       "{121313, 222323, 323333, 424343, 525353, 626363, 828383, 929393}"
      ]
     },
     "execution_count": 65,
     "metadata": {},
     "output_type": "execute_result"
    }
   ],
   "source": [
    "import itertools\n",
    "\n",
    "limit_pow = 8\n",
    "limit = 10**limit_pow\n",
    "\n",
    "def prime_sieve(n):\n",
    "    sieve = [True] * (int(n/2))\n",
    "    for i in range(3, int(n**0.5)+1, 2):\n",
    "        if sieve[int(i/2)]:\n",
    "            sieve[int(i*i/2)::i] = [False] * int((n - i*i - 1) / (2 * i) + 1)\n",
    "    return [2] + [2 * i + 1 for i in range(1, int(n/2)) if sieve[i]]\n",
    "\n",
    "primes = prime_sieve(limit)\n",
    "\n",
    "def create_number(n, d):\n",
    "    return int(n.replace('*', str(d)))\n",
    "    \n",
    "def create_base(n, digits):\n",
    "    s = str(n)\n",
    "    base = ''\n",
    "    digs = set([s[d-1] for d in digits])\n",
    "    if len(digs) != 1:\n",
    "        return base\n",
    "    l = 0\n",
    "    for d in digits:\n",
    "        base += s[l:d-1] + '*'\n",
    "        l = d\n",
    "    base += s[l:]\n",
    "    return base\n",
    "    \n",
    "def prime_family(n):\n",
    "    prime_family = []\n",
    "    start = 0\n",
    "    if n[0] == '*':\n",
    "        start = 1\n",
    "    for d in range(start,10):\n",
    "        candidate = create_number(n, d)\n",
    "        if candidate in primes:\n",
    "            prime_family.append(candidate)\n",
    "    \n",
    "    return prime_family\n",
    "\n",
    "size = 8\n",
    "solved = False\n",
    "\n",
    "combinations = {}\n",
    "for i in range(1, limit_pow+1):\n",
    "    if i not in combinations:\n",
    "        combinations[i] = []\n",
    "    for k in range(1,i):    \n",
    "        combinations[i].extend([list(j) for j in list(itertools.combinations(range(1,i), k))])\n",
    "\n",
    "while not solved:\n",
    "    bases = {}\n",
    "    for n in primes:\n",
    "        for d in combinations[len(str(n))]:\n",
    "            base = create_base(n, d)\n",
    "            if base != '':\n",
    "                if base in bases:\n",
    "                    bases[base].add(n)\n",
    "                    if len(bases[base]) >= size:\n",
    "                        solved = True\n",
    "                        break\n",
    "                else:\n",
    "                    bases[base] = set([n])\n",
    "        if solved:\n",
    "            break\n",
    "\n",
    "bases[base]"
   ]
  },
  {
   "cell_type": "markdown",
   "metadata": {},
   "source": [
    "## Problem 52"
   ]
  },
  {
   "cell_type": "markdown",
   "metadata": {},
   "source": [
    "### Permuted multiples"
   ]
  },
  {
   "cell_type": "code",
   "execution_count": 79,
   "metadata": {},
   "outputs": [
    {
     "data": {
      "text/plain": [
       "142857"
      ]
     },
     "execution_count": 79,
     "metadata": {},
     "output_type": "execute_result"
    }
   ],
   "source": [
    "def digits(n):\n",
    "    return sorted(list(str(n)))\n",
    "\n",
    "def multiple_digits(n):\n",
    "    l = []\n",
    "    for i in range(1,7):\n",
    "        l.append(digits(i*n))\n",
    "    return l\n",
    "        \n",
    "def check(l):\n",
    "    valid = True\n",
    "    for i in range(0,len(l)-1):\n",
    "        if l[i] != l[i+1]:\n",
    "            valid = False\n",
    "            break\n",
    "    return valid\n",
    "\n",
    "n = 1\n",
    "while True:\n",
    "    if check(multiple_digits(n)):\n",
    "        break\n",
    "    n += 1\n",
    "    \n",
    "n"
   ]
  },
  {
   "cell_type": "markdown",
   "metadata": {},
   "source": [
    "## Problem 53"
   ]
  },
  {
   "cell_type": "markdown",
   "metadata": {},
   "source": [
    "### Combinatoric selections"
   ]
  },
  {
   "cell_type": "code",
   "execution_count": 89,
   "metadata": {},
   "outputs": [
    {
     "data": {
      "text/plain": [
       "4075"
      ]
     },
     "execution_count": 89,
     "metadata": {},
     "output_type": "execute_result"
    }
   ],
   "source": [
    "import math\n",
    "\n",
    "def combinations(n,r):\n",
    "    return int(math.factorial(n)/(math.factorial(r)*math.factorial(n-r)))\n",
    "\n",
    "def count_combinations_for_n(n,limit):\n",
    "    a = 0\n",
    "    for r in range(1,n+1):\n",
    "        if combinations(n,r) >= limit:\n",
    "            a += 1\n",
    "    return a\n",
    "\n",
    "a = 0\n",
    "for n in range(1,101):\n",
    "    a += count_combinations_for_n(n, 1000000)\n",
    "    \n",
    "a"
   ]
  },
  {
   "cell_type": "markdown",
   "metadata": {},
   "source": [
    "## Problem 54"
   ]
  },
  {
   "cell_type": "markdown",
   "metadata": {},
   "source": [
    "### Poker hands"
   ]
  },
  {
   "cell_type": "code",
   "execution_count": 186,
   "metadata": {},
   "outputs": [
    {
     "data": {
      "text/plain": [
       "376"
      ]
     },
     "execution_count": 186,
     "metadata": {},
     "output_type": "execute_result"
    }
   ],
   "source": [
    "with open(\"p054_poker.txt\") as f:\n",
    "    s = f.read()\n",
    "    \n",
    "games = s.split('\\n')\n",
    "hands = {}\n",
    "\n",
    "card_values = ['2', '3', '4', '5', '6', '7', '8', '9', 'T', 'J', 'Q', 'K', 'A']\n",
    "\n",
    "for i in range(0, len(games)):\n",
    "    cards = games[i].split(' ')\n",
    "    hands[i] = {}\n",
    "    hands[i][1] = cards[0:5]\n",
    "    hands[i][2] = cards[5:10]\n",
    "    \n",
    "del hands[1000]\n",
    "\n",
    "def is_royal_flush(hand):\n",
    "    required_values = set(card_values[8:13])\n",
    "    suites = set()\n",
    "    values = set()\n",
    "    for card in hand:\n",
    "        values.add(card[0])\n",
    "        suites.add(card[1])\n",
    "    return len(suites) == 1 and required_values == values\n",
    "\n",
    "def is_straight_flush(hand):\n",
    "    suites = set()\n",
    "    values = set()\n",
    "    min_index = 13\n",
    "    for card in hand:\n",
    "        values.add(card[0])\n",
    "        suites.add(card[1])\n",
    "        i = card_values.index(card[0])\n",
    "        if i < min_index:\n",
    "            min_index = i\n",
    "    if len(suites) != 1:\n",
    "        return False\n",
    "    return values == set(card_values[min_index:min_index+5])\n",
    "\n",
    "def is_four_of_a_kind(hand):\n",
    "    values = []\n",
    "    for card in hand:\n",
    "        values.append(card[0])\n",
    "    for v in set(values):\n",
    "        if values.count(v) == 4:\n",
    "            return (True, v)\n",
    "    return (False, 0)\n",
    "\n",
    "def is_full_house(hand):\n",
    "    values = []\n",
    "    for card in hand:\n",
    "        values.append(card[0])\n",
    "    if len(set(values)) == 2: # either this, or four of a kind\n",
    "        for v in set(values):\n",
    "            if values.count(v) == 3:\n",
    "                v1 = v\n",
    "            if values.count(v) == 2:\n",
    "                v2 = v\n",
    "        return (True, v1, v2)\n",
    "    return (False, 0, 0)\n",
    "\n",
    "def is_flush(hand):\n",
    "    suites = set()\n",
    "    for card in hand:\n",
    "        suites.add(card[1])\n",
    "    return len(suites) == 1\n",
    "\n",
    "def is_straight(hand):\n",
    "    values = set()\n",
    "    min_index = 13\n",
    "    for card in hand:\n",
    "        values.add(card[0])\n",
    "        i = card_values.index(card[0])\n",
    "        if i < min_index:\n",
    "            min_index = i\n",
    "    return values == set(card_values[min_index:min_index+5])\n",
    "\n",
    "def is_three_of_a_kind(hand):\n",
    "    values = []\n",
    "    for card in hand:\n",
    "        values.append(card[0])\n",
    "    for v in set(values):\n",
    "        if values.count(v) == 3:\n",
    "            return (True, v)\n",
    "    return (False, 0)\n",
    "\n",
    "def is_two_pairs(hand):\n",
    "    values = []\n",
    "    pairs = []\n",
    "    for card in hand:\n",
    "        values.append(card[0])\n",
    "    for v in set(values):\n",
    "        if values.count(v) == 2:\n",
    "            pairs.append(v)\n",
    "    if len(pairs) == 2:\n",
    "        return (True, sorted(pairs, reverse=True))\n",
    "    return (False, [])\n",
    "\n",
    "def is_pair(hand):\n",
    "    values = []\n",
    "    for card in hand:\n",
    "        values.append(card[0])\n",
    "    for v in set(values):\n",
    "        if values.count(v) == 2:\n",
    "            return (True, v)\n",
    "    return (False, 0)\n",
    "\n",
    "def card_ranking(hand):\n",
    "    return sorted([card_values.index(card[0]) for card in hand], reverse=True)\n",
    "\n",
    "def highest_rank(hand):\n",
    "    if is_royal_flush(hand):\n",
    "        return (21,0)\n",
    "    if is_straight_flush(hand):\n",
    "        return (20, 0)\n",
    "    is_foak = is_four_of_a_kind(hand)\n",
    "    if is_foak[0]:\n",
    "        return (19, is_foak[1])\n",
    "    is_fh = is_full_house(hand)\n",
    "    if is_fh[0]:\n",
    "        return (18,is_fh[1],is_fh[2])\n",
    "    if is_flush(hand):\n",
    "        return (17, 0)\n",
    "    if is_straight(hand):\n",
    "        return (16, 0)\n",
    "    is_toak = is_three_of_a_kind(hand)\n",
    "    if is_toak[0]:\n",
    "        return (15, is_toak[1])\n",
    "    is_tp = is_two_pairs(hand)\n",
    "    if is_tp[0]:\n",
    "        return (14, is_tp[1][0], is_tp[1][1])\n",
    "    is_ip = is_pair(hand)\n",
    "    if is_ip[0]:\n",
    "        return (13, is_ip[1])\n",
    "    else:\n",
    "        return (max(card_ranking(hand)), 0)\n",
    "    \n",
    "def winner_by_highest(hand1, hand2):\n",
    "    rank1 = card_ranking(hand1)\n",
    "    rank2 = card_ranking(hand2)\n",
    "    while len(rank1) != 0 and rank1[0] == rank2[0]:\n",
    "        rank1 = rank1[1:len(rank1)]\n",
    "        rank2 = rank2[1:len(rank2)]\n",
    "    if rank1[0] > rank2[0]:\n",
    "        return 1\n",
    "    else:\n",
    "        return 2\n",
    "    \n",
    "def determine_winner(hand1, hand2):\n",
    "    rank1 = highest_rank(hand1)\n",
    "    rank2 = highest_rank(hand2)\n",
    "    if rank1[0] > rank2[0]:\n",
    "        return 1\n",
    "    elif rank2[0] > rank1[0]:\n",
    "        return 2\n",
    "    elif rank1[0] in [19,18,15,14,13]:\n",
    "        if card_values.index(rank1[1]) > card_values.index(rank2[1]):\n",
    "            return 1\n",
    "        elif card_values.index(rank2[1]) > card_values.index(rank1[1]):\n",
    "            return 2\n",
    "        elif rank1[0] in [18,14]:\n",
    "            if card_values.index(rank1[2]) > card_values.index(rank2[2]):\n",
    "                return 1\n",
    "            elif card_values.index(rank2[2]) > card_values.index(rank1[2]):\n",
    "                return 2\n",
    "    return winner_by_highest(hand1, hand2)\n",
    "    \n",
    "wins = 0\n",
    "for h in hands:\n",
    "    winner = determine_winner(hands[h][1], hands[h][2])\n",
    "    if winner == 1:\n",
    "        wins += 1\n",
    "        \n",
    "wins"
   ]
  },
  {
   "cell_type": "markdown",
   "metadata": {},
   "source": [
    "## Problem 55"
   ]
  },
  {
   "cell_type": "markdown",
   "metadata": {},
   "source": [
    "### Lychrel numbers"
   ]
  },
  {
   "cell_type": "code",
   "execution_count": 191,
   "metadata": {},
   "outputs": [
    {
     "data": {
      "text/plain": [
       "249"
      ]
     },
     "execution_count": 191,
     "metadata": {},
     "output_type": "execute_result"
    }
   ],
   "source": [
    "def reverse_add(n):\n",
    "    return n + int(str(n)[::-1])\n",
    "\n",
    "def is_palindrome(n):\n",
    "    return str(n) == str(n)[::-1]\n",
    "\n",
    "def is_lychrel(n):\n",
    "    for i in range(0,50):\n",
    "        n = reverse_add(n)\n",
    "        if is_palindrome(n):\n",
    "            return False\n",
    "    return True\n",
    "\n",
    "\n",
    "a = 0\n",
    "for n in range(1,10001):\n",
    "    if is_lychrel(n):\n",
    "        a += 1\n",
    "        \n",
    "a"
   ]
  },
  {
   "cell_type": "markdown",
   "metadata": {},
   "source": [
    "## Problem 56"
   ]
  },
  {
   "cell_type": "markdown",
   "metadata": {},
   "source": [
    "### Powerful digit sum"
   ]
  },
  {
   "cell_type": "code",
   "execution_count": 195,
   "metadata": {},
   "outputs": [
    {
     "data": {
      "text/plain": [
       "972"
      ]
     },
     "execution_count": 195,
     "metadata": {},
     "output_type": "execute_result"
    }
   ],
   "source": [
    "def digit_sum(n):\n",
    "    return sum([int(i) for i in list(str(n))])\n",
    "\n",
    "max_ds = 0\n",
    "for a in range(0,100):\n",
    "    for b in range(0,100):\n",
    "        ds = digit_sum(a**b)\n",
    "        if ds > max_ds:\n",
    "            max_ds = ds\n",
    "            \n",
    "max_ds"
   ]
  },
  {
   "cell_type": "markdown",
   "metadata": {},
   "source": [
    "## Problem 57"
   ]
  },
  {
   "cell_type": "markdown",
   "metadata": {},
   "source": [
    "### Square root convergents"
   ]
  },
  {
   "cell_type": "code",
   "execution_count": 24,
   "metadata": {},
   "outputs": [
    {
     "data": {
      "text/plain": [
       "153"
      ]
     },
     "execution_count": 24,
     "metadata": {},
     "output_type": "execute_result"
    }
   ],
   "source": [
    "def next_base(base):\n",
    "    return (base[1], base[0]+2*base[1])\n",
    "\n",
    "def calculate_root(base):\n",
    "    return (base[0]+base[1],base[1])\n",
    "\n",
    "def evaluate(root):\n",
    "    return len(str(root[0])) > len(str(root[1]))\n",
    "\n",
    "base = (1,2)\n",
    "count = 0\n",
    "for i in range(1000):\n",
    "    root = calculate_root(base)\n",
    "    if evaluate(root):\n",
    "        count += 1\n",
    "    base = next_base(base)\n",
    "    \n",
    "count"
   ]
  },
  {
   "cell_type": "markdown",
   "metadata": {},
   "source": [
    "## Problem 58"
   ]
  },
  {
   "cell_type": "markdown",
   "metadata": {},
   "source": [
    "### Spiral primes"
   ]
  },
  {
   "cell_type": "code",
   "execution_count": 85,
   "metadata": {},
   "outputs": [
    {
     "data": {
      "text/plain": [
       "26241"
      ]
     },
     "execution_count": 85,
     "metadata": {},
     "output_type": "execute_result"
    }
   ],
   "source": [
    "limit_pow = 9\n",
    "limit = 10**limit_pow\n",
    "\n",
    "def prime_sieve(n):\n",
    "    sieve = [True] * (int(n/2))\n",
    "    for i in range(3, int(n**0.5)+1, 2):\n",
    "        if sieve[int(i/2)]:\n",
    "            sieve[int(i*i/2)::i] = [False] * int((n - i*i - 1) / (2 * i) + 1)\n",
    "    return [2] + [2 * i + 1 for i in range(1, int(n/2)) if sieve[i]]\n",
    "\n",
    "primes = frozenset(prime_sieve(limit))\n",
    "\n",
    "def diagonal_size(side_length):\n",
    "    return 2*side_length-1\n",
    "\n",
    "def count_corner_primes(side_length):\n",
    "    p = 0\n",
    "    for n in range(1, 4):\n",
    "        d = side_length**2 - n*(side_length-1)\n",
    "        if d in primes:\n",
    "            p += 1\n",
    "    return p\n",
    "\n",
    "side_length = 3\n",
    "diagonal_primes = count_corner_primes(side_length)\n",
    "while not diagonal_primes/diagonal_size(side_length) < 0.1:\n",
    "    side_length += 2\n",
    "    diagonal_primes += count_corner_primes(side_length)\n",
    "\n",
    "side_length  "
   ]
  },
  {
   "cell_type": "markdown",
   "metadata": {},
   "source": [
    "## Problem 59"
   ]
  },
  {
   "cell_type": "markdown",
   "metadata": {},
   "source": [
    "### XOR decryption"
   ]
  },
  {
   "cell_type": "code",
   "execution_count": 142,
   "metadata": {},
   "outputs": [
    {
     "data": {
      "text/plain": [
       "107359"
      ]
     },
     "execution_count": 142,
     "metadata": {},
     "output_type": "execute_result"
    }
   ],
   "source": [
    "with open(\"p059_cipher.txt\") as f:\n",
    "    cipher = f.read()\n",
    "    \n",
    "text = [int(c) for c in cipher.split(',')]\n",
    "\n",
    "def decrypt(text, key):\n",
    "    decrypted = []\n",
    "    for i in range(0, len(text)):\n",
    "        decrypted.append(text[i] ^ key[i%3])\n",
    "    return decrypted\n",
    "\n",
    "keys = list(itertools.product(range(ord('a'), ord('z')+1), repeat=3))\n",
    "for key in keys:\n",
    "    decrypted = decrypt(text, key)\n",
    "    restored = ''.join([chr(c) for c in decrypted])\n",
    "    if ' the ' in restored:\n",
    "        break\n",
    "    \n",
    "sum(decrypted)"
   ]
  },
  {
   "cell_type": "markdown",
   "metadata": {},
   "source": [
    "## Problem 60"
   ]
  },
  {
   "cell_type": "markdown",
   "metadata": {},
   "source": [
    "### Prime pair sets"
   ]
  },
  {
   "cell_type": "code",
   "execution_count": 244,
   "metadata": {},
   "outputs": [
    {
     "data": {
      "text/plain": [
       "26033"
      ]
     },
     "execution_count": 244,
     "metadata": {},
     "output_type": "execute_result"
    }
   ],
   "source": [
    "import itertools\n",
    "\n",
    "limit_pow = 9\n",
    "limit = 10**limit_pow\n",
    "target_length = 5\n",
    "\n",
    "def prime_sieve(n):\n",
    "    sieve = [True] * (int(n/2))\n",
    "    for i in range(3, int(n**0.5)+1, 2):\n",
    "        if sieve[int(i/2)]:\n",
    "            sieve[int(i*i/2)::i] = [False] * int((n - i*i - 1) / (2 * i) + 1)\n",
    "    return [2] + [2 * i + 1 for i in range(1, int(n/2)) if sieve[i]]\n",
    "\n",
    "primes = frozenset(prime_sieve(limit))\n",
    "base_primes = [x for x in primes if x < 10**(limit_pow/2 + 1)]\n",
    "base_primes.remove(2)\n",
    "base_primes.remove(5)\n",
    "\n",
    "found = []\n",
    "index = 0\n",
    "while len(found) < target_length:\n",
    "    if len(base_primes) == index:\n",
    "        index = base_primes.index(found[-1]) + 1\n",
    "        found = found[:-1]\n",
    "    match = True\n",
    "    n = base_primes[index]\n",
    "    for f in found:\n",
    "        if (int(str(f)+str(n)) not in primes) or (int(str(n)+str(f)) not in primes):\n",
    "            match = False\n",
    "            break\n",
    "    if match:\n",
    "        found.append(n)\n",
    "    index += 1\n",
    "\n",
    "sum(found)"
   ]
  },
  {
   "cell_type": "markdown",
   "metadata": {},
   "source": [
    "## Problem 61"
   ]
  },
  {
   "cell_type": "markdown",
   "metadata": {},
   "source": [
    "### Cyclical figurate numbers"
   ]
  },
  {
   "cell_type": "code",
   "execution_count": 515,
   "metadata": {
    "scrolled": true
   },
   "outputs": [
    {
     "data": {
      "text/plain": [
       "28684"
      ]
     },
     "execution_count": 515,
     "metadata": {},
     "output_type": "execute_result"
    }
   ],
   "source": [
    "import itertools\n",
    "\n",
    "triangles = []\n",
    "squares = []\n",
    "pentagonals = []\n",
    "hexagonals = []\n",
    "heptagonals = []\n",
    "octagonals = []\n",
    "\n",
    "n = 1\n",
    "while True:\n",
    "    triangle   = int(n*(n+1)/2)\n",
    "    square     = int(n*n)\n",
    "    pentagonal = int(n*(3*n-1)/2)\n",
    "    hexagonal  = int(n*(2*n-1))\n",
    "    heptagonal = int(n*(5*n-3)/2)\n",
    "    octagonal  = int(n*(3*n-2))\n",
    "    \n",
    "    if triangle >= 10000:\n",
    "        break\n",
    "\n",
    "    if triangle >= 1000 and triangle < 10000:\n",
    "        triangles.append((str(triangle)[0:2], str(triangle)[2:]))\n",
    "    if square >= 1000 and square < 10000:\n",
    "        squares.append((str(square)[0:2], str(square)[2:]))\n",
    "    if pentagonal >= 1000 and pentagonal < 10000:\n",
    "        pentagonals.append((str(pentagonal)[0:2], str(pentagonal)[2:]))\n",
    "    if hexagonal >= 1000 and hexagonal < 10000:\n",
    "        hexagonals.append((str(hexagonal)[0:2], str(hexagonal)[2:]))\n",
    "    if heptagonal >= 1000 and heptagonal < 10000:\n",
    "        heptagonals.append((str(heptagonal)[0:2], str(heptagonal)[2:]))\n",
    "    if octagonal >= 1000 and octagonal < 10000:\n",
    "        octagonals.append((str(octagonal)[0:2], str(octagonal)[2:]))\n",
    "        \n",
    "    n += 1\n",
    "    \n",
    "perms = list(itertools.permutations([triangles, squares, pentagonals, hexagonals, heptagonals, octagonals], 6))\n",
    "perms = perms[:int(len(perms)/6)]\n",
    "    \n",
    "can_work = []\n",
    "for p in perms:\n",
    "    options = dict()\n",
    "    for i in range(0,6):\n",
    "        options[i] = dict()\n",
    "        for n in p[i]:\n",
    "            if n[0] not in options[i]:\n",
    "                options[i][n[0]] = []\n",
    "            options[i][n[0]].extend([m for m in p[(i+1)%6] if n[1] == m[0]])\n",
    "            if len(options[i][n[0]]) == 0:\n",
    "                del options[i][n[0]]\n",
    "        \n",
    "    for k in range(0,6):\n",
    "        if len(options) == 6:\n",
    "            for i in range(0,6):\n",
    "                for n in options[i]:\n",
    "                    options[i][n] = [m for m in options[i][n] if (m[0] in options[(i+1)%6]) and (m[1] in options[(i+2)%6])]\n",
    "                options[i] = {n:options[i][n] for n in options[i] if len(options[i][n]) != 0}\n",
    "            options = {k:options[k] for k in options if len(options[k]) != 0}\n",
    "        \n",
    "    if len(options) == 6: \n",
    "        can_work.append(options)\n",
    "\n",
    "can_work = can_work[0]\n",
    "for n in range(0,6):\n",
    "    reverse = {}\n",
    "    for i in range(0,6):\n",
    "        reverse[i] = {can_work[i][l][0][0] for l in can_work[i]}\n",
    "    \n",
    "    for i in range(0,6):\n",
    "        can_work[i] = {j:can_work[i][j] for j in can_work[i] if j in reverse[(i-1)%6]}\n",
    "\n",
    "numbers = []\n",
    "for k in can_work:\n",
    "    for l in can_work[k]:\n",
    "        numbers.append(int(l + can_work[k][l][0][0]))\n",
    "        \n",
    "sum(numbers)"
   ]
  },
  {
   "cell_type": "markdown",
   "metadata": {},
   "source": [
    "## Problem 62"
   ]
  },
  {
   "cell_type": "markdown",
   "metadata": {},
   "source": [
    "### Cubic permutations"
   ]
  },
  {
   "cell_type": "code",
   "execution_count": 48,
   "metadata": {},
   "outputs": [
    {
     "data": {
      "text/plain": [
       "127035954683"
      ]
     },
     "execution_count": 48,
     "metadata": {},
     "output_type": "execute_result"
    }
   ],
   "source": [
    "import itertools\n",
    "\n",
    "limit = 10000\n",
    "cubes = [i**3 for i in range(1,limit)]\n",
    "perms = dict()\n",
    "permutations = 5\n",
    "\n",
    "for c in cubes:\n",
    "    tmp = list(str(c))\n",
    "    tmp.sort()\n",
    "    key = ''.join(tmp)\n",
    "    if key not in perms:\n",
    "        perms[key] = []\n",
    "    perms[key].append(c)\n",
    "    \n",
    "for k in perms:\n",
    "    if len(perms[k]) >= permutations:\n",
    "        break\n",
    "        \n",
    "perms[k][0]"
   ]
  },
  {
   "cell_type": "markdown",
   "metadata": {},
   "source": [
    "## Problem 63"
   ]
  },
  {
   "cell_type": "markdown",
   "metadata": {},
   "source": [
    "### Powerful digit counts"
   ]
  },
  {
   "cell_type": "code",
   "execution_count": 47,
   "metadata": {},
   "outputs": [
    {
     "data": {
      "text/plain": [
       "49"
      ]
     },
     "execution_count": 47,
     "metadata": {},
     "output_type": "execute_result"
    }
   ],
   "source": [
    "import math\n",
    "\n",
    "count = 0\n",
    "n = 1\n",
    "min_pow = 1\n",
    "while min_pow < 10:\n",
    "    min_pow = math.ceil((10**(n-1))**(1/n))\n",
    "    count += 10 - min_pow\n",
    "    n += 1  \n",
    "\n",
    "count"
   ]
  },
  {
   "cell_type": "markdown",
   "metadata": {},
   "source": [
    "## Problem 64"
   ]
  },
  {
   "cell_type": "markdown",
   "metadata": {},
   "source": [
    "### Odd period square roots"
   ]
  },
  {
   "cell_type": "code",
   "execution_count": 129,
   "metadata": {},
   "outputs": [
    {
     "data": {
      "text/plain": [
       "1322"
      ]
     },
     "execution_count": 129,
     "metadata": {},
     "output_type": "execute_result"
    }
   ],
   "source": [
    "import math\n",
    "\n",
    "def square_base(n):\n",
    "    return int(math.sqrt(n))\n",
    "\n",
    "def simplify(n,d):\n",
    "    i = 2\n",
    "    while i <= n and i <= d:\n",
    "        while n % i == 0 and d % i == 0:\n",
    "            n = n/i\n",
    "            d = d/i\n",
    "        i = i + 1\n",
    "    return (int(n), int(d))\n",
    "\n",
    "def next_fraction(n, base, nom, den_minus):\n",
    "    next_nom = n - den_minus * den_minus\n",
    "    nom, next_nom = simplify(nom, next_nom)\n",
    "    next_part = int((base + den_minus) / next_nom)\n",
    "    next_den_minus = -(den_minus - next_part * next_nom)\n",
    "    return (next_nom, next_den_minus)\n",
    "\n",
    "def period_length(n):\n",
    "    previous = set()\n",
    "    base = square_base(n)\n",
    "    nom, den_minus = (1, base)\n",
    "\n",
    "    while (nom, den_minus) not in previous:\n",
    "        previous.add((nom, den_minus))\n",
    "        nom, den_minus = next_fraction(n, base, nom, den_minus)\n",
    "        \n",
    "    return len(previous)\n",
    "\n",
    "count = 0\n",
    "for n in range(2, 10000):\n",
    "    if math.sqrt(n) != square_base(n):\n",
    "        length = period_length(n)\n",
    "        if length % 2 == 1:\n",
    "            count += 1\n",
    "            \n",
    "count"
   ]
  },
  {
   "cell_type": "markdown",
   "metadata": {},
   "source": [
    "## Problem 65"
   ]
  },
  {
   "cell_type": "markdown",
   "metadata": {},
   "source": [
    "### Convergents of e"
   ]
  },
  {
   "cell_type": "code",
   "execution_count": 97,
   "metadata": {},
   "outputs": [
    {
     "data": {
      "text/plain": [
       "272"
      ]
     },
     "execution_count": 97,
     "metadata": {},
     "output_type": "execute_result"
    }
   ],
   "source": [
    "import math\n",
    "\n",
    "parts = []\n",
    "for i in range(1, 34):\n",
    "    parts.extend([1,1,i*2])\n",
    "parts[0] = 2\n",
    "parts.append(1)\n",
    "\n",
    "def calculate(parts):\n",
    "    parts.reverse()\n",
    "    num, den = (parts[0], 1)\n",
    "    for p in parts[1:]:\n",
    "        num, den = (den, num)\n",
    "        num += den * p\n",
    "    return num, den\n",
    "\n",
    "def digit_sum(n):\n",
    "    return sum([int(i) for i in list(str(n))])\n",
    "\n",
    "fraction = calculate(parts)\n",
    "digit_sum(fraction[0])"
   ]
  },
  {
   "cell_type": "markdown",
   "metadata": {},
   "source": [
    "## Problem 66"
   ]
  },
  {
   "cell_type": "markdown",
   "metadata": {},
   "source": [
    "### Diophantine equation"
   ]
  },
  {
   "cell_type": "code",
   "execution_count": 190,
   "metadata": {},
   "outputs": [
    {
     "data": {
      "text/plain": [
       "661"
      ]
     },
     "execution_count": 190,
     "metadata": {},
     "output_type": "execute_result"
    }
   ],
   "source": [
    "import math\n",
    "\n",
    "def square_base(n):\n",
    "    return int(math.sqrt(n))\n",
    "\n",
    "def simplify(n,d):\n",
    "    i = 2\n",
    "    while i <= n and i <= d:\n",
    "        while n % i == 0 and d % i == 0:\n",
    "            n = n/i\n",
    "            d = d/i\n",
    "        i = i + 1\n",
    "    return (int(n), int(d))\n",
    "\n",
    "def next_fraction(n, base, nom, den_minus):\n",
    "    next_nom = n - den_minus * den_minus\n",
    "    nom, next_nom = simplify(nom, next_nom)\n",
    "    next_part = int((base + den_minus) / next_nom)\n",
    "    next_den_minus = -(den_minus - next_part * next_nom)\n",
    "    return (next_part, next_nom, next_den_minus)\n",
    "\n",
    "def calculate(parts):\n",
    "    parts.reverse()\n",
    "    num, den = (parts[0], 1)\n",
    "    for p in parts[1:]:\n",
    "        num, den = (den, num)\n",
    "        num += den * p\n",
    "    parts.reverse()\n",
    "    return num, den\n",
    "\n",
    "def find_solution(D):\n",
    "    base = square_base(D)\n",
    "    nom, den_minus = (1, base)\n",
    "    parts = [base]\n",
    "    x, y = (1, base)\n",
    "    while x*x - D*y*y != 1:\n",
    "        part, nom, den_minus = next_fraction(D, base, nom, den_minus)\n",
    "        parts.append(part)\n",
    "        x, y = calculate(parts)\n",
    "    return x\n",
    "\n",
    "solutions = {}\n",
    "for D in range(2, 1000):\n",
    "    sqrt = math.sqrt(D)\n",
    "    if sqrt != int(sqrt):\n",
    "        x = find_solution(D)\n",
    "        solutions[x] = D\n",
    "\n",
    "solutions[max(solutions)]"
   ]
  },
  {
   "cell_type": "markdown",
   "metadata": {},
   "source": [
    "## Problem 67"
   ]
  },
  {
   "cell_type": "markdown",
   "metadata": {},
   "source": [
    "### Maximum path sum II"
   ]
  },
  {
   "cell_type": "code",
   "execution_count": 257,
   "metadata": {},
   "outputs": [
    {
     "data": {
      "text/plain": [
       "7273"
      ]
     },
     "execution_count": 257,
     "metadata": {},
     "output_type": "execute_result"
    }
   ],
   "source": [
    "with open(\"p067_triangle.txt\") as f:\n",
    "    data = f.read()\n",
    "    \n",
    "triangle = [[int(n) for n in row.split(' ')] for row in data.split('\\n')[:-1]]\n",
    "\n",
    "def calculate_current(level, i):\n",
    "    current = triangle[level][i]\n",
    "    left = triangle[level+1][i]\n",
    "    right = triangle[level+1][i+1]\n",
    "    return current + max(left, right)\n",
    "\n",
    "for level in range(len(triangle)-2, -1, -1):\n",
    "    for i in range(0,len(triangle[level])):\n",
    "        triangle[level][i] = calculate_current(level, i)\n",
    "        \n",
    "triangle[0][0]"
   ]
  }
 ],
 "metadata": {
  "kernelspec": {
   "display_name": "Python 3",
   "language": "python",
   "name": "python3"
  },
  "language_info": {
   "codemirror_mode": {
    "name": "ipython",
    "version": 3
   },
   "file_extension": ".py",
   "mimetype": "text/x-python",
   "name": "python",
   "nbconvert_exporter": "python",
   "pygments_lexer": "ipython3",
   "version": "3.6.3"
  }
 },
 "nbformat": 4,
 "nbformat_minor": 2
}
