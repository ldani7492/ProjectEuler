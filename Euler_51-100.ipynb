{
 "cells": [
  {
   "cell_type": "markdown",
   "metadata": {},
   "source": [
    "# Project Euler"
   ]
  },
  {
   "cell_type": "markdown",
   "metadata": {},
   "source": [
    "## Problem 51"
   ]
  },
  {
   "cell_type": "markdown",
   "metadata": {},
   "source": [
    "### Prime digit replacements"
   ]
  },
  {
   "cell_type": "code",
   "execution_count": 65,
   "metadata": {},
   "outputs": [
    {
     "data": {
      "text/plain": [
       "{121313, 222323, 323333, 424343, 525353, 626363, 828383, 929393}"
      ]
     },
     "execution_count": 65,
     "metadata": {},
     "output_type": "execute_result"
    }
   ],
   "source": [
    "import itertools\n",
    "\n",
    "limit_pow = 8\n",
    "limit = 10**limit_pow\n",
    "\n",
    "def prime_sieve(n):\n",
    "    sieve = [True] * (int(n/2))\n",
    "    for i in range(3, int(n**0.5)+1, 2):\n",
    "        if sieve[int(i/2)]:\n",
    "            sieve[int(i*i/2)::i] = [False] * int((n - i*i - 1) / (2 * i) + 1)\n",
    "    return [2] + [2 * i + 1 for i in range(1, int(n/2)) if sieve[i]]\n",
    "\n",
    "primes = prime_sieve(limit)\n",
    "\n",
    "def create_number(n, d):\n",
    "    return int(n.replace('*', str(d)))\n",
    "    \n",
    "def create_base(n, digits):\n",
    "    s = str(n)\n",
    "    base = ''\n",
    "    digs = set([s[d-1] for d in digits])\n",
    "    if len(digs) != 1:\n",
    "        return base\n",
    "    l = 0\n",
    "    for d in digits:\n",
    "        base += s[l:d-1] + '*'\n",
    "        l = d\n",
    "    base += s[l:]\n",
    "    return base\n",
    "    \n",
    "def prime_family(n):\n",
    "    prime_family = []\n",
    "    start = 0\n",
    "    if n[0] == '*':\n",
    "        start = 1\n",
    "    for d in range(start,10):\n",
    "        candidate = create_number(n, d)\n",
    "        if candidate in primes:\n",
    "            prime_family.append(candidate)\n",
    "    \n",
    "    return prime_family\n",
    "\n",
    "size = 8\n",
    "solved = False\n",
    "\n",
    "combinations = {}\n",
    "for i in range(1, limit_pow+1):\n",
    "    if i not in combinations:\n",
    "        combinations[i] = []\n",
    "    for k in range(1,i):    \n",
    "        combinations[i].extend([list(j) for j in list(itertools.combinations(range(1,i), k))])\n",
    "\n",
    "while not solved:\n",
    "    bases = {}\n",
    "    for n in primes:\n",
    "        for d in combinations[len(str(n))]:\n",
    "            base = create_base(n, d)\n",
    "            if base != '':\n",
    "                if base in bases:\n",
    "                    bases[base].add(n)\n",
    "                    if len(bases[base]) >= size:\n",
    "                        solved = True\n",
    "                        break\n",
    "                else:\n",
    "                    bases[base] = set([n])\n",
    "        if solved:\n",
    "            break\n",
    "\n",
    "bases[base]"
   ]
  },
  {
   "cell_type": "markdown",
   "metadata": {},
   "source": [
    "## Problem 52"
   ]
  },
  {
   "cell_type": "markdown",
   "metadata": {},
   "source": [
    "### Permuted multiples"
   ]
  },
  {
   "cell_type": "code",
   "execution_count": 79,
   "metadata": {},
   "outputs": [
    {
     "data": {
      "text/plain": [
       "142857"
      ]
     },
     "execution_count": 79,
     "metadata": {},
     "output_type": "execute_result"
    }
   ],
   "source": [
    "def digits(n):\n",
    "    return sorted(list(str(n)))\n",
    "\n",
    "def multiple_digits(n):\n",
    "    l = []\n",
    "    for i in range(1,7):\n",
    "        l.append(digits(i*n))\n",
    "    return l\n",
    "        \n",
    "def check(l):\n",
    "    valid = True\n",
    "    for i in range(0,len(l)-1):\n",
    "        if l[i] != l[i+1]:\n",
    "            valid = False\n",
    "            break\n",
    "    return valid\n",
    "\n",
    "n = 1\n",
    "while True:\n",
    "    if check(multiple_digits(n)):\n",
    "        break\n",
    "    n += 1\n",
    "    \n",
    "n"
   ]
  },
  {
   "cell_type": "markdown",
   "metadata": {},
   "source": [
    "## Problem 53"
   ]
  },
  {
   "cell_type": "markdown",
   "metadata": {},
   "source": [
    "### Combinatoric selections"
   ]
  },
  {
   "cell_type": "code",
   "execution_count": 89,
   "metadata": {},
   "outputs": [
    {
     "data": {
      "text/plain": [
       "4075"
      ]
     },
     "execution_count": 89,
     "metadata": {},
     "output_type": "execute_result"
    }
   ],
   "source": [
    "import math\n",
    "\n",
    "def combinations(n,r):\n",
    "    return int(math.factorial(n)/(math.factorial(r)*math.factorial(n-r)))\n",
    "\n",
    "def count_combinations_for_n(n,limit):\n",
    "    a = 0\n",
    "    for r in range(1,n+1):\n",
    "        if combinations(n,r) >= limit:\n",
    "            a += 1\n",
    "    return a\n",
    "\n",
    "a = 0\n",
    "for n in range(1,101):\n",
    "    a += count_combinations_for_n(n, 1000000)\n",
    "    \n",
    "a"
   ]
  },
  {
   "cell_type": "markdown",
   "metadata": {},
   "source": [
    "## Problem 54"
   ]
  },
  {
   "cell_type": "markdown",
   "metadata": {},
   "source": [
    "### Poker hands"
   ]
  },
  {
   "cell_type": "code",
   "execution_count": 186,
   "metadata": {},
   "outputs": [
    {
     "data": {
      "text/plain": [
       "376"
      ]
     },
     "execution_count": 186,
     "metadata": {},
     "output_type": "execute_result"
    }
   ],
   "source": [
    "with open(\"p054_poker.txt\") as f:\n",
    "    s = f.read()\n",
    "    \n",
    "games = s.split('\\n')\n",
    "hands = {}\n",
    "\n",
    "card_values = ['2', '3', '4', '5', '6', '7', '8', '9', 'T', 'J', 'Q', 'K', 'A']\n",
    "\n",
    "for i in range(0, len(games)):\n",
    "    cards = games[i].split(' ')\n",
    "    hands[i] = {}\n",
    "    hands[i][1] = cards[0:5]\n",
    "    hands[i][2] = cards[5:10]\n",
    "    \n",
    "del hands[1000]\n",
    "\n",
    "def is_royal_flush(hand):\n",
    "    required_values = set(card_values[8:13])\n",
    "    suites = set()\n",
    "    values = set()\n",
    "    for card in hand:\n",
    "        values.add(card[0])\n",
    "        suites.add(card[1])\n",
    "    return len(suites) == 1 and required_values == values\n",
    "\n",
    "def is_straight_flush(hand):\n",
    "    suites = set()\n",
    "    values = set()\n",
    "    min_index = 13\n",
    "    for card in hand:\n",
    "        values.add(card[0])\n",
    "        suites.add(card[1])\n",
    "        i = card_values.index(card[0])\n",
    "        if i < min_index:\n",
    "            min_index = i\n",
    "    if len(suites) != 1:\n",
    "        return False\n",
    "    return values == set(card_values[min_index:min_index+5])\n",
    "\n",
    "def is_four_of_a_kind(hand):\n",
    "    values = []\n",
    "    for card in hand:\n",
    "        values.append(card[0])\n",
    "    for v in set(values):\n",
    "        if values.count(v) == 4:\n",
    "            return (True, v)\n",
    "    return (False, 0)\n",
    "\n",
    "def is_full_house(hand):\n",
    "    values = []\n",
    "    for card in hand:\n",
    "        values.append(card[0])\n",
    "    if len(set(values)) == 2: # either this, or four of a kind\n",
    "        for v in set(values):\n",
    "            if values.count(v) == 3:\n",
    "                v1 = v\n",
    "            if values.count(v) == 2:\n",
    "                v2 = v\n",
    "        return (True, v1, v2)\n",
    "    return (False, 0, 0)\n",
    "\n",
    "def is_flush(hand):\n",
    "    suites = set()\n",
    "    for card in hand:\n",
    "        suites.add(card[1])\n",
    "    return len(suites) == 1\n",
    "\n",
    "def is_straight(hand):\n",
    "    values = set()\n",
    "    min_index = 13\n",
    "    for card in hand:\n",
    "        values.add(card[0])\n",
    "        i = card_values.index(card[0])\n",
    "        if i < min_index:\n",
    "            min_index = i\n",
    "    return values == set(card_values[min_index:min_index+5])\n",
    "\n",
    "def is_three_of_a_kind(hand):\n",
    "    values = []\n",
    "    for card in hand:\n",
    "        values.append(card[0])\n",
    "    for v in set(values):\n",
    "        if values.count(v) == 3:\n",
    "            return (True, v)\n",
    "    return (False, 0)\n",
    "\n",
    "def is_two_pairs(hand):\n",
    "    values = []\n",
    "    pairs = []\n",
    "    for card in hand:\n",
    "        values.append(card[0])\n",
    "    for v in set(values):\n",
    "        if values.count(v) == 2:\n",
    "            pairs.append(v)\n",
    "    if len(pairs) == 2:\n",
    "        return (True, sorted(pairs, reverse=True))\n",
    "    return (False, [])\n",
    "\n",
    "def is_pair(hand):\n",
    "    values = []\n",
    "    for card in hand:\n",
    "        values.append(card[0])\n",
    "    for v in set(values):\n",
    "        if values.count(v) == 2:\n",
    "            return (True, v)\n",
    "    return (False, 0)\n",
    "\n",
    "def card_ranking(hand):\n",
    "    return sorted([card_values.index(card[0]) for card in hand], reverse=True)\n",
    "\n",
    "def highest_rank(hand):\n",
    "    if is_royal_flush(hand):\n",
    "        return (21,0)\n",
    "    if is_straight_flush(hand):\n",
    "        return (20, 0)\n",
    "    is_foak = is_four_of_a_kind(hand)\n",
    "    if is_foak[0]:\n",
    "        return (19, is_foak[1])\n",
    "    is_fh = is_full_house(hand)\n",
    "    if is_fh[0]:\n",
    "        return (18,is_fh[1],is_fh[2])\n",
    "    if is_flush(hand):\n",
    "        return (17, 0)\n",
    "    if is_straight(hand):\n",
    "        return (16, 0)\n",
    "    is_toak = is_three_of_a_kind(hand)\n",
    "    if is_toak[0]:\n",
    "        return (15, is_toak[1])\n",
    "    is_tp = is_two_pairs(hand)\n",
    "    if is_tp[0]:\n",
    "        return (14, is_tp[1][0], is_tp[1][1])\n",
    "    is_ip = is_pair(hand)\n",
    "    if is_ip[0]:\n",
    "        return (13, is_ip[1])\n",
    "    else:\n",
    "        return (max(card_ranking(hand)), 0)\n",
    "    \n",
    "def winner_by_highest(hand1, hand2):\n",
    "    rank1 = card_ranking(hand1)\n",
    "    rank2 = card_ranking(hand2)\n",
    "    while len(rank1) != 0 and rank1[0] == rank2[0]:\n",
    "        rank1 = rank1[1:len(rank1)]\n",
    "        rank2 = rank2[1:len(rank2)]\n",
    "    if rank1[0] > rank2[0]:\n",
    "        return 1\n",
    "    else:\n",
    "        return 2\n",
    "    \n",
    "def determine_winner(hand1, hand2):\n",
    "    rank1 = highest_rank(hand1)\n",
    "    rank2 = highest_rank(hand2)\n",
    "    if rank1[0] > rank2[0]:\n",
    "        return 1\n",
    "    elif rank2[0] > rank1[0]:\n",
    "        return 2\n",
    "    elif rank1[0] in [19,18,15,14,13]:\n",
    "        if card_values.index(rank1[1]) > card_values.index(rank2[1]):\n",
    "            return 1\n",
    "        elif card_values.index(rank2[1]) > card_values.index(rank1[1]):\n",
    "            return 2\n",
    "        elif rank1[0] in [18,14]:\n",
    "            if card_values.index(rank1[2]) > card_values.index(rank2[2]):\n",
    "                return 1\n",
    "            elif card_values.index(rank2[2]) > card_values.index(rank1[2]):\n",
    "                return 2\n",
    "    return winner_by_highest(hand1, hand2)\n",
    "    \n",
    "wins = 0\n",
    "for h in hands:\n",
    "    winner = determine_winner(hands[h][1], hands[h][2])\n",
    "    if winner == 1:\n",
    "        wins += 1\n",
    "        \n",
    "wins"
   ]
  },
  {
   "cell_type": "markdown",
   "metadata": {},
   "source": [
    "## Problem 55"
   ]
  },
  {
   "cell_type": "markdown",
   "metadata": {},
   "source": [
    "### Lychrel numbers"
   ]
  },
  {
   "cell_type": "code",
   "execution_count": 191,
   "metadata": {},
   "outputs": [
    {
     "data": {
      "text/plain": [
       "249"
      ]
     },
     "execution_count": 191,
     "metadata": {},
     "output_type": "execute_result"
    }
   ],
   "source": [
    "def reverse_add(n):\n",
    "    return n + int(str(n)[::-1])\n",
    "\n",
    "def is_palindrome(n):\n",
    "    return str(n) == str(n)[::-1]\n",
    "\n",
    "def is_lychrel(n):\n",
    "    for i in range(0,50):\n",
    "        n = reverse_add(n)\n",
    "        if is_palindrome(n):\n",
    "            return False\n",
    "    return True\n",
    "\n",
    "\n",
    "a = 0\n",
    "for n in range(1,10001):\n",
    "    if is_lychrel(n):\n",
    "        a += 1\n",
    "        \n",
    "a"
   ]
  },
  {
   "cell_type": "markdown",
   "metadata": {},
   "source": [
    "## Problem 56"
   ]
  },
  {
   "cell_type": "markdown",
   "metadata": {},
   "source": [
    "### Powerful digit sum"
   ]
  },
  {
   "cell_type": "code",
   "execution_count": 195,
   "metadata": {},
   "outputs": [
    {
     "data": {
      "text/plain": [
       "972"
      ]
     },
     "execution_count": 195,
     "metadata": {},
     "output_type": "execute_result"
    }
   ],
   "source": [
    "def digit_sum(n):\n",
    "    return sum([int(i) for i in list(str(n))])\n",
    "\n",
    "max_ds = 0\n",
    "for a in range(0,100):\n",
    "    for b in range(0,100):\n",
    "        ds = digit_sum(a**b)\n",
    "        if ds > max_ds:\n",
    "            max_ds = ds\n",
    "            \n",
    "max_ds"
   ]
  },
  {
   "cell_type": "markdown",
   "metadata": {},
   "source": [
    "## Problem 57"
   ]
  },
  {
   "cell_type": "markdown",
   "metadata": {},
   "source": [
    "### Square root convergents"
   ]
  },
  {
   "cell_type": "code",
   "execution_count": 24,
   "metadata": {},
   "outputs": [
    {
     "data": {
      "text/plain": [
       "153"
      ]
     },
     "execution_count": 24,
     "metadata": {},
     "output_type": "execute_result"
    }
   ],
   "source": [
    "def next_base(base):\n",
    "    return (base[1], base[0]+2*base[1])\n",
    "\n",
    "def calculate_root(base):\n",
    "    return (base[0]+base[1],base[1])\n",
    "\n",
    "def evaluate(root):\n",
    "    return len(str(root[0])) > len(str(root[1]))\n",
    "\n",
    "base = (1,2)\n",
    "count = 0\n",
    "for i in range(1000):\n",
    "    root = calculate_root(base)\n",
    "    if evaluate(root):\n",
    "        count += 1\n",
    "    base = next_base(base)\n",
    "    \n",
    "count"
   ]
  },
  {
   "cell_type": "markdown",
   "metadata": {},
   "source": [
    "## Problem 58"
   ]
  },
  {
   "cell_type": "markdown",
   "metadata": {},
   "source": [
    "### Spiral primes"
   ]
  },
  {
   "cell_type": "code",
   "execution_count": 85,
   "metadata": {},
   "outputs": [
    {
     "data": {
      "text/plain": [
       "26241"
      ]
     },
     "execution_count": 85,
     "metadata": {},
     "output_type": "execute_result"
    }
   ],
   "source": [
    "limit_pow = 9\n",
    "limit = 10**limit_pow\n",
    "\n",
    "def prime_sieve(n):\n",
    "    sieve = [True] * (int(n/2))\n",
    "    for i in range(3, int(n**0.5)+1, 2):\n",
    "        if sieve[int(i/2)]:\n",
    "            sieve[int(i*i/2)::i] = [False] * int((n - i*i - 1) / (2 * i) + 1)\n",
    "    return [2] + [2 * i + 1 for i in range(1, int(n/2)) if sieve[i]]\n",
    "\n",
    "primes = frozenset(prime_sieve(limit))\n",
    "\n",
    "def diagonal_size(side_length):\n",
    "    return 2*side_length-1\n",
    "\n",
    "def count_corner_primes(side_length):\n",
    "    p = 0\n",
    "    for n in range(1, 4):\n",
    "        d = side_length**2 - n*(side_length-1)\n",
    "        if d in primes:\n",
    "            p += 1\n",
    "    return p\n",
    "\n",
    "side_length = 3\n",
    "diagonal_primes = count_corner_primes(side_length)\n",
    "while not diagonal_primes/diagonal_size(side_length) < 0.1:\n",
    "    side_length += 2\n",
    "    diagonal_primes += count_corner_primes(side_length)\n",
    "\n",
    "side_length  "
   ]
  },
  {
   "cell_type": "markdown",
   "metadata": {},
   "source": [
    "## Problem 59"
   ]
  },
  {
   "cell_type": "markdown",
   "metadata": {},
   "source": [
    "### XOR decryption"
   ]
  },
  {
   "cell_type": "code",
   "execution_count": 142,
   "metadata": {},
   "outputs": [
    {
     "data": {
      "text/plain": [
       "107359"
      ]
     },
     "execution_count": 142,
     "metadata": {},
     "output_type": "execute_result"
    }
   ],
   "source": [
    "with open(\"p059_cipher.txt\") as f:\n",
    "    cipher = f.read()\n",
    "    \n",
    "text = [int(c) for c in cipher.split(',')]\n",
    "\n",
    "def decrypt(text, key):\n",
    "    decrypted = []\n",
    "    for i in range(0, len(text)):\n",
    "        decrypted.append(text[i] ^ key[i%3])\n",
    "    return decrypted\n",
    "\n",
    "keys = list(itertools.product(range(ord('a'), ord('z')+1), repeat=3))\n",
    "for key in keys:\n",
    "    decrypted = decrypt(text, key)\n",
    "    restored = ''.join([chr(c) for c in decrypted])\n",
    "    if ' the ' in restored:\n",
    "        break\n",
    "    \n",
    "sum(decrypted)"
   ]
  },
  {
   "cell_type": "markdown",
   "metadata": {},
   "source": [
    "## Problem 60"
   ]
  },
  {
   "cell_type": "markdown",
   "metadata": {},
   "source": [
    "### Prime pair sets"
   ]
  },
  {
   "cell_type": "code",
   "execution_count": 244,
   "metadata": {},
   "outputs": [
    {
     "data": {
      "text/plain": [
       "26033"
      ]
     },
     "execution_count": 244,
     "metadata": {},
     "output_type": "execute_result"
    }
   ],
   "source": [
    "import itertools\n",
    "\n",
    "limit_pow = 9\n",
    "limit = 10**limit_pow\n",
    "target_length = 5\n",
    "\n",
    "def prime_sieve(n):\n",
    "    sieve = [True] * (int(n/2))\n",
    "    for i in range(3, int(n**0.5)+1, 2):\n",
    "        if sieve[int(i/2)]:\n",
    "            sieve[int(i*i/2)::i] = [False] * int((n - i*i - 1) / (2 * i) + 1)\n",
    "    return [2] + [2 * i + 1 for i in range(1, int(n/2)) if sieve[i]]\n",
    "\n",
    "primes = frozenset(prime_sieve(limit))\n",
    "base_primes = [x for x in primes if x < 10**(limit_pow/2 + 1)]\n",
    "base_primes.remove(2)\n",
    "base_primes.remove(5)\n",
    "\n",
    "found = []\n",
    "index = 0\n",
    "while len(found) < target_length:\n",
    "    if len(base_primes) == index:\n",
    "        index = base_primes.index(found[-1]) + 1\n",
    "        found = found[:-1]\n",
    "    match = True\n",
    "    n = base_primes[index]\n",
    "    for f in found:\n",
    "        if (int(str(f)+str(n)) not in primes) or (int(str(n)+str(f)) not in primes):\n",
    "            match = False\n",
    "            break\n",
    "    if match:\n",
    "        found.append(n)\n",
    "    index += 1\n",
    "\n",
    "sum(found)"
   ]
  },
  {
   "cell_type": "markdown",
   "metadata": {},
   "source": [
    "## Problem 61"
   ]
  },
  {
   "cell_type": "markdown",
   "metadata": {},
   "source": [
    "### Cyclical figurate numbers"
   ]
  },
  {
   "cell_type": "code",
   "execution_count": 515,
   "metadata": {
    "scrolled": true
   },
   "outputs": [
    {
     "data": {
      "text/plain": [
       "28684"
      ]
     },
     "execution_count": 515,
     "metadata": {},
     "output_type": "execute_result"
    }
   ],
   "source": [
    "import itertools\n",
    "\n",
    "triangles = []\n",
    "squares = []\n",
    "pentagonals = []\n",
    "hexagonals = []\n",
    "heptagonals = []\n",
    "octagonals = []\n",
    "\n",
    "n = 1\n",
    "while True:\n",
    "    triangle   = int(n*(n+1)/2)\n",
    "    square     = int(n*n)\n",
    "    pentagonal = int(n*(3*n-1)/2)\n",
    "    hexagonal  = int(n*(2*n-1))\n",
    "    heptagonal = int(n*(5*n-3)/2)\n",
    "    octagonal  = int(n*(3*n-2))\n",
    "    \n",
    "    if triangle >= 10000:\n",
    "        break\n",
    "\n",
    "    if triangle >= 1000 and triangle < 10000:\n",
    "        triangles.append((str(triangle)[0:2], str(triangle)[2:]))\n",
    "    if square >= 1000 and square < 10000:\n",
    "        squares.append((str(square)[0:2], str(square)[2:]))\n",
    "    if pentagonal >= 1000 and pentagonal < 10000:\n",
    "        pentagonals.append((str(pentagonal)[0:2], str(pentagonal)[2:]))\n",
    "    if hexagonal >= 1000 and hexagonal < 10000:\n",
    "        hexagonals.append((str(hexagonal)[0:2], str(hexagonal)[2:]))\n",
    "    if heptagonal >= 1000 and heptagonal < 10000:\n",
    "        heptagonals.append((str(heptagonal)[0:2], str(heptagonal)[2:]))\n",
    "    if octagonal >= 1000 and octagonal < 10000:\n",
    "        octagonals.append((str(octagonal)[0:2], str(octagonal)[2:]))\n",
    "        \n",
    "    n += 1\n",
    "    \n",
    "perms = list(itertools.permutations([triangles, squares, pentagonals, hexagonals, heptagonals, octagonals], 6))\n",
    "perms = perms[:int(len(perms)/6)]\n",
    "    \n",
    "can_work = []\n",
    "for p in perms:\n",
    "    options = dict()\n",
    "    for i in range(0,6):\n",
    "        options[i] = dict()\n",
    "        for n in p[i]:\n",
    "            if n[0] not in options[i]:\n",
    "                options[i][n[0]] = []\n",
    "            options[i][n[0]].extend([m for m in p[(i+1)%6] if n[1] == m[0]])\n",
    "            if len(options[i][n[0]]) == 0:\n",
    "                del options[i][n[0]]\n",
    "        \n",
    "    for k in range(0,6):\n",
    "        if len(options) == 6:\n",
    "            for i in range(0,6):\n",
    "                for n in options[i]:\n",
    "                    options[i][n] = [m for m in options[i][n] if (m[0] in options[(i+1)%6]) and (m[1] in options[(i+2)%6])]\n",
    "                options[i] = {n:options[i][n] for n in options[i] if len(options[i][n]) != 0}\n",
    "            options = {k:options[k] for k in options if len(options[k]) != 0}\n",
    "        \n",
    "    if len(options) == 6: \n",
    "        can_work.append(options)\n",
    "\n",
    "can_work = can_work[0]\n",
    "for n in range(0,6):\n",
    "    reverse = {}\n",
    "    for i in range(0,6):\n",
    "        reverse[i] = {can_work[i][l][0][0] for l in can_work[i]}\n",
    "    \n",
    "    for i in range(0,6):\n",
    "        can_work[i] = {j:can_work[i][j] for j in can_work[i] if j in reverse[(i-1)%6]}\n",
    "\n",
    "numbers = []\n",
    "for k in can_work:\n",
    "    for l in can_work[k]:\n",
    "        numbers.append(int(l + can_work[k][l][0][0]))\n",
    "        \n",
    "sum(numbers)"
   ]
  },
  {
   "cell_type": "markdown",
   "metadata": {},
   "source": [
    "## Problem 62"
   ]
  },
  {
   "cell_type": "markdown",
   "metadata": {},
   "source": [
    "### Cubic permutations"
   ]
  },
  {
   "cell_type": "code",
   "execution_count": 48,
   "metadata": {},
   "outputs": [
    {
     "data": {
      "text/plain": [
       "127035954683"
      ]
     },
     "execution_count": 48,
     "metadata": {},
     "output_type": "execute_result"
    }
   ],
   "source": [
    "import itertools\n",
    "\n",
    "limit = 10000\n",
    "cubes = [i**3 for i in range(1,limit)]\n",
    "perms = dict()\n",
    "permutations = 5\n",
    "\n",
    "for c in cubes:\n",
    "    tmp = list(str(c))\n",
    "    tmp.sort()\n",
    "    key = ''.join(tmp)\n",
    "    if key not in perms:\n",
    "        perms[key] = []\n",
    "    perms[key].append(c)\n",
    "    \n",
    "for k in perms:\n",
    "    if len(perms[k]) >= permutations:\n",
    "        break\n",
    "        \n",
    "perms[k][0]"
   ]
  },
  {
   "cell_type": "markdown",
   "metadata": {},
   "source": [
    "## Problem 63"
   ]
  },
  {
   "cell_type": "markdown",
   "metadata": {},
   "source": [
    "### Powerful digit counts"
   ]
  },
  {
   "cell_type": "code",
   "execution_count": 47,
   "metadata": {},
   "outputs": [
    {
     "data": {
      "text/plain": [
       "49"
      ]
     },
     "execution_count": 47,
     "metadata": {},
     "output_type": "execute_result"
    }
   ],
   "source": [
    "import math\n",
    "\n",
    "count = 0\n",
    "n = 1\n",
    "min_pow = 1\n",
    "while min_pow < 10:\n",
    "    min_pow = math.ceil((10**(n-1))**(1/n))\n",
    "    count += 10 - min_pow\n",
    "    n += 1  \n",
    "\n",
    "count"
   ]
  },
  {
   "cell_type": "markdown",
   "metadata": {},
   "source": [
    "## Problem 64"
   ]
  },
  {
   "cell_type": "markdown",
   "metadata": {},
   "source": [
    "### Odd period square roots"
   ]
  },
  {
   "cell_type": "code",
   "execution_count": 129,
   "metadata": {},
   "outputs": [
    {
     "data": {
      "text/plain": [
       "1322"
      ]
     },
     "execution_count": 129,
     "metadata": {},
     "output_type": "execute_result"
    }
   ],
   "source": [
    "import math\n",
    "\n",
    "def square_base(n):\n",
    "    return int(math.sqrt(n))\n",
    "\n",
    "def simplify(n,d):\n",
    "    i = 2\n",
    "    while i <= n and i <= d:\n",
    "        while n % i == 0 and d % i == 0:\n",
    "            n = n/i\n",
    "            d = d/i\n",
    "        i = i + 1\n",
    "    return (int(n), int(d))\n",
    "\n",
    "def next_fraction(n, base, nom, den_minus):\n",
    "    next_nom = n - den_minus * den_minus\n",
    "    nom, next_nom = simplify(nom, next_nom)\n",
    "    next_part = int((base + den_minus) / next_nom)\n",
    "    next_den_minus = -(den_minus - next_part * next_nom)\n",
    "    return (next_nom, next_den_minus)\n",
    "\n",
    "def period_length(n):\n",
    "    previous = set()\n",
    "    base = square_base(n)\n",
    "    nom, den_minus = (1, base)\n",
    "\n",
    "    while (nom, den_minus) not in previous:\n",
    "        previous.add((nom, den_minus))\n",
    "        nom, den_minus = next_fraction(n, base, nom, den_minus)\n",
    "        \n",
    "    return len(previous)\n",
    "\n",
    "count = 0\n",
    "for n in range(2, 10000):\n",
    "    if math.sqrt(n) != square_base(n):\n",
    "        length = period_length(n)\n",
    "        if length % 2 == 1:\n",
    "            count += 1\n",
    "            \n",
    "count"
   ]
  },
  {
   "cell_type": "markdown",
   "metadata": {},
   "source": [
    "## Problem 65"
   ]
  },
  {
   "cell_type": "markdown",
   "metadata": {},
   "source": [
    "### Convergents of e"
   ]
  },
  {
   "cell_type": "code",
   "execution_count": 97,
   "metadata": {},
   "outputs": [
    {
     "data": {
      "text/plain": [
       "272"
      ]
     },
     "execution_count": 97,
     "metadata": {},
     "output_type": "execute_result"
    }
   ],
   "source": [
    "import math\n",
    "\n",
    "parts = []\n",
    "for i in range(1, 34):\n",
    "    parts.extend([1,1,i*2])\n",
    "parts[0] = 2\n",
    "parts.append(1)\n",
    "\n",
    "def calculate(parts):\n",
    "    parts.reverse()\n",
    "    num, den = (parts[0], 1)\n",
    "    for p in parts[1:]:\n",
    "        num, den = (den, num)\n",
    "        num += den * p\n",
    "    return num, den\n",
    "\n",
    "def digit_sum(n):\n",
    "    return sum([int(i) for i in list(str(n))])\n",
    "\n",
    "fraction = calculate(parts)\n",
    "digit_sum(fraction[0])"
   ]
  },
  {
   "cell_type": "markdown",
   "metadata": {},
   "source": [
    "## Problem 66"
   ]
  },
  {
   "cell_type": "markdown",
   "metadata": {},
   "source": [
    "### Diophantine equation"
   ]
  },
  {
   "cell_type": "code",
   "execution_count": 190,
   "metadata": {},
   "outputs": [
    {
     "data": {
      "text/plain": [
       "661"
      ]
     },
     "execution_count": 190,
     "metadata": {},
     "output_type": "execute_result"
    }
   ],
   "source": [
    "import math\n",
    "\n",
    "def square_base(n):\n",
    "    return int(math.sqrt(n))\n",
    "\n",
    "def simplify(n,d):\n",
    "    i = 2\n",
    "    while i <= n and i <= d:\n",
    "        while n % i == 0 and d % i == 0:\n",
    "            n = n/i\n",
    "            d = d/i\n",
    "        i = i + 1\n",
    "    return (int(n), int(d))\n",
    "\n",
    "def next_fraction(n, base, nom, den_minus):\n",
    "    next_nom = n - den_minus * den_minus\n",
    "    nom, next_nom = simplify(nom, next_nom)\n",
    "    next_part = int((base + den_minus) / next_nom)\n",
    "    next_den_minus = -(den_minus - next_part * next_nom)\n",
    "    return (next_part, next_nom, next_den_minus)\n",
    "\n",
    "def calculate(parts):\n",
    "    parts.reverse()\n",
    "    num, den = (parts[0], 1)\n",
    "    for p in parts[1:]:\n",
    "        num, den = (den, num)\n",
    "        num += den * p\n",
    "    parts.reverse()\n",
    "    return num, den\n",
    "\n",
    "def find_solution(D):\n",
    "    base = square_base(D)\n",
    "    nom, den_minus = (1, base)\n",
    "    parts = [base]\n",
    "    x, y = (1, base)\n",
    "    while x*x - D*y*y != 1:\n",
    "        part, nom, den_minus = next_fraction(D, base, nom, den_minus)\n",
    "        parts.append(part)\n",
    "        x, y = calculate(parts)\n",
    "    return x\n",
    "\n",
    "solutions = {}\n",
    "for D in range(2, 1000):\n",
    "    sqrt = math.sqrt(D)\n",
    "    if sqrt != int(sqrt):\n",
    "        x = find_solution(D)\n",
    "        solutions[x] = D\n",
    "\n",
    "solutions[max(solutions)]"
   ]
  },
  {
   "cell_type": "markdown",
   "metadata": {},
   "source": [
    "## Problem 67"
   ]
  },
  {
   "cell_type": "markdown",
   "metadata": {},
   "source": [
    "### Maximum path sum II"
   ]
  },
  {
   "cell_type": "code",
   "execution_count": 257,
   "metadata": {},
   "outputs": [
    {
     "data": {
      "text/plain": [
       "7273"
      ]
     },
     "execution_count": 257,
     "metadata": {},
     "output_type": "execute_result"
    }
   ],
   "source": [
    "with open(\"p067_triangle.txt\") as f:\n",
    "    data = f.read()\n",
    "    \n",
    "triangle = [[int(n) for n in row.split(' ')] for row in data.split('\\n')[:-1]]\n",
    "\n",
    "def calculate_current(level, i):\n",
    "    current = triangle[level][i]\n",
    "    left = triangle[level+1][i]\n",
    "    right = triangle[level+1][i+1]\n",
    "    return current + max(left, right)\n",
    "\n",
    "for level in range(len(triangle)-2, -1, -1):\n",
    "    for i in range(0,len(triangle[level])):\n",
    "        triangle[level][i] = calculate_current(level, i)\n",
    "        \n",
    "triangle[0][0]"
   ]
  },
  {
   "cell_type": "markdown",
   "metadata": {},
   "source": [
    "## Problem 68"
   ]
  },
  {
   "cell_type": "markdown",
   "metadata": {},
   "source": [
    "### Magic 5-gon ring"
   ]
  },
  {
   "cell_type": "code",
   "execution_count": 645,
   "metadata": {},
   "outputs": [
    {
     "data": {
      "text/plain": [
       "6531031914842725"
      ]
     },
     "execution_count": 645,
     "metadata": {},
     "output_type": "execute_result"
    }
   ],
   "source": [
    "import itertools\n",
    "\n",
    "size = 5\n",
    "base_sum = sum(range(1, size * 2 + 1))\n",
    "min_sum = base_sum + sum(range(1, size + 1))\n",
    "max_sum = base_sum + sum(range(size + 1, size * 2 + 1))\n",
    "valid_sums = [t for t in range(min_sum, max_sum+1) if t % size == 0]\n",
    "double_sums = [t-base_sum for t in valid_sums]\n",
    "totals = [int(t/size) for t in valid_sums]\n",
    "\n",
    "combinations = list(itertools.combinations(range(1, min(size * 2 + 1, 10)), size))\n",
    "combinations = [c for c in combinations if sum(c) in double_sums]\n",
    "\n",
    "def is_valid(lines):\n",
    "    if len({lines[l] for l in lines}) < size:\n",
    "        return False\n",
    "    node_counter = {}\n",
    "    for l in lines:\n",
    "        if l[0] not in node_counter:\n",
    "            node_counter[l[0]] = 0\n",
    "        if l[1] not in node_counter:\n",
    "            node_counter[l[1]] = 0\n",
    "        node_counter[l[0]] += 1\n",
    "        node_counter[l[1]] += 1\n",
    "    return len({node_counter[n] for n in node_counter}) == 1\n",
    "\n",
    "candidates = []\n",
    "for c in combinations:\n",
    "    remaining = [n for n in range(1, size * 2 + 1) if n not in c]\n",
    "    total = int((base_sum + sum(c))/size)\n",
    "    groups = list(itertools.combinations(c, 2))\n",
    "    lines = {s: total - sum(s) for s in groups if total - sum(s) in remaining}\n",
    "    options = list(itertools.combinations(lines, size))\n",
    "    for o in options:\n",
    "        lines = {}\n",
    "        for i in range(0,size):\n",
    "            lines[o[i]] = total - sum(o[i])\n",
    "        if not is_valid(lines):\n",
    "            continue\n",
    "        candidates.append(lines)\n",
    "\n",
    "\n",
    "candidates = {min([c[inner] for inner in c]): c for c in candidates}\n",
    "candidate = candidates[max(candidates)]\n",
    "\n",
    "def create_rings(lines):\n",
    "    rings = []\n",
    "    connections = {}\n",
    "    for l in lines:\n",
    "        connections[l] = [m for m in lines if (l[0]==m[0] or l[0]==m[1] or l[1]==m[0] or l[1]==m[1]) and l != m]\n",
    "    outers = {lines[l]:l for l in lines}\n",
    "    last = outers[min(outers)]\n",
    "    reverse = 1\n",
    "    ring = str(lines[last]) + str(last[(0+reverse)%2]) + str(last[(1+reverse)%2])\n",
    "    for i in range(0, size - 1):\n",
    "        del lines[last]\n",
    "        current = [l for l in connections[last] if l[0]==last[(1+reverse)%2] or l[1]==last[(1+reverse)%2]][0]\n",
    "        del connections[last]\n",
    "        if current[0] == last[(1+reverse)%2]:\n",
    "            reverse = 0\n",
    "        else:\n",
    "            reverse = 1\n",
    "        ring += str(lines[current]) + str(current[(0+reverse)%2]) + str(current[(1+reverse)%2])\n",
    "        last = current\n",
    "    return int(ring)\n",
    "        \n",
    "create_rings(candidate)"
   ]
  },
  {
   "cell_type": "markdown",
   "metadata": {},
   "source": [
    "## Problem 69"
   ]
  },
  {
   "cell_type": "markdown",
   "metadata": {},
   "source": [
    "### Totient maximum"
   ]
  },
  {
   "cell_type": "code",
   "execution_count": 154,
   "metadata": {},
   "outputs": [
    {
     "data": {
      "text/plain": [
       "510510"
      ]
     },
     "execution_count": 154,
     "metadata": {},
     "output_type": "execute_result"
    }
   ],
   "source": [
    "limit_pow = 6\n",
    "limit = 10**limit_pow\n",
    "\n",
    "def prime_sieve(n):\n",
    "    sieve = [True] * (int(n/2))\n",
    "    for i in range(3, int(n**0.5)+1, 2):\n",
    "        if sieve[int(i/2)]:\n",
    "            sieve[int(i*i/2)::i] = [False] * int((n - i*i - 1) / (2 * i) + 1)\n",
    "    return [2] + [2 * i + 1 for i in range(1, int(n/2)) if sieve[i]]\n",
    "\n",
    "\n",
    "primes = prime_sieve(limit)\n",
    "\n",
    "n_per_totients = [1]*(limit-1)\n",
    "\n",
    "for p in primes:\n",
    "    n_per_totients[p-2::p] = [p/(p-1)*x for x in n_per_totients[p-2::p]]\n",
    "\n",
    "    \n",
    "n_per_totients.index(max(n_per_totients))+2"
   ]
  },
  {
   "cell_type": "markdown",
   "metadata": {},
   "source": [
    "## Problem 70"
   ]
  },
  {
   "cell_type": "markdown",
   "metadata": {},
   "source": [
    "### Totient permutation\n"
   ]
  },
  {
   "cell_type": "code",
   "execution_count": 202,
   "metadata": {},
   "outputs": [
    {
     "data": {
      "text/plain": [
       "8319823"
      ]
     },
     "execution_count": 202,
     "metadata": {},
     "output_type": "execute_result"
    }
   ],
   "source": [
    "limit_pow = 7\n",
    "limit = 10**limit_pow\n",
    "\n",
    "def prime_sieve(n):\n",
    "    sieve = [True] * (int(n/2))\n",
    "    for i in range(3, int(n**0.5)+1, 2):\n",
    "        if sieve[int(i/2)]:\n",
    "            sieve[int(i*i/2)::i] = [False] * int((n - i*i - 1) / (2 * i) + 1)\n",
    "    return [2] + [2 * i + 1 for i in range(1, int(n/2)) if sieve[i]]\n",
    "\n",
    "\n",
    "primes = prime_sieve(limit)\n",
    "\n",
    "totients = list(range(2,limit))\n",
    "\n",
    "for p in primes:\n",
    "    totients[p-2::p] = [(p-1)/p*x for x in totients[p-2::p]]\n",
    "    \n",
    "totients = [int(t) for t in totients]\n",
    "\n",
    "valid = {}\n",
    "n = 2\n",
    "while n < limit:\n",
    "    t = totients[n-2]\n",
    "    if ''.join(sorted(str(n))) == ''.join(sorted(str(t))):\n",
    "        valid[n] = t\n",
    "    n += 1\n",
    "\n",
    "n_per_totients = {k:k/valid[k] for k in valid}\n",
    "\n",
    "min(n_per_totients, key=n_per_totients.get)"
   ]
  },
  {
   "cell_type": "markdown",
   "metadata": {},
   "source": [
    "## Problem 71"
   ]
  },
  {
   "cell_type": "markdown",
   "metadata": {},
   "source": [
    "### Ordered fractions"
   ]
  },
  {
   "cell_type": "code",
   "execution_count": 426,
   "metadata": {},
   "outputs": [
    {
     "data": {
      "text/plain": [
       "428570"
      ]
     },
     "execution_count": 426,
     "metadata": {},
     "output_type": "execute_result"
    }
   ],
   "source": [
    "import math\n",
    "\n",
    "target = 3/7\n",
    "limit = 1000000\n",
    "\n",
    "max_below_target = {}\n",
    "for d in range(2, limit+1):\n",
    "    n = math.ceil(target*d - 1)\n",
    "    if n != 0:\n",
    "        max_below_target[d] = n\n",
    "    \n",
    "def simplify(n,d):\n",
    "    i = 2\n",
    "    while i <= n and i <= d:\n",
    "        while n % i == 0 and d % i == 0:\n",
    "            n = n/i\n",
    "            d = d/i\n",
    "        i = i + 1\n",
    "    return (int(n), int(d))\n",
    "    \n",
    "values = {d:max_below_target[d]/d for d in max_below_target}\n",
    "max_d = max(values, key=values.get)\n",
    "max_n = max_below_target[max_d]\n",
    "\n",
    "simplify(max_n, max_d)[0]"
   ]
  },
  {
   "cell_type": "markdown",
   "metadata": {},
   "source": [
    "## Problem 72"
   ]
  },
  {
   "cell_type": "markdown",
   "metadata": {},
   "source": [
    "### Counting fractions"
   ]
  },
  {
   "cell_type": "code",
   "execution_count": 240,
   "metadata": {},
   "outputs": [
    {
     "data": {
      "text/plain": [
       "303963552391"
      ]
     },
     "execution_count": 240,
     "metadata": {},
     "output_type": "execute_result"
    }
   ],
   "source": [
    "limit_pow = 6\n",
    "limit = 10**limit_pow\n",
    "\n",
    "def prime_sieve(n):\n",
    "    sieve = [True] * (int(n/2))\n",
    "    for i in range(3, int(n**0.5)+1, 2):\n",
    "        if sieve[int(i/2)]:\n",
    "            sieve[int(i*i/2)::i] = [False] * int((n - i*i - 1) / (2 * i) + 1)\n",
    "    return [2] + [2 * i + 1 for i in range(1, int(n/2)) if sieve[i]]\n",
    "\n",
    "\n",
    "primes = prime_sieve(limit)\n",
    "\n",
    "totients = list(range(2,limit+1))\n",
    "\n",
    "for p in primes:\n",
    "    totients[p-2::p] = [(p-1)/p*x for x in totients[p-2::p]]\n",
    "    \n",
    "totients = [int(t) for t in totients]\n",
    "\n",
    "sum(totients)"
   ]
  },
  {
   "cell_type": "markdown",
   "metadata": {},
   "source": [
    "## Problem 73"
   ]
  },
  {
   "cell_type": "markdown",
   "metadata": {},
   "source": [
    "### Counting fractions in a range"
   ]
  },
  {
   "cell_type": "code",
   "execution_count": 428,
   "metadata": {},
   "outputs": [
    {
     "data": {
      "text/plain": [
       "7295372"
      ]
     },
     "execution_count": 428,
     "metadata": {},
     "output_type": "execute_result"
    }
   ],
   "source": [
    "import math\n",
    "\n",
    "bottom = 1/3\n",
    "top = 1/2\n",
    "limit = 12000\n",
    "\n",
    "def prime_sieve(n):\n",
    "    sieve = [True] * (int(n/2))\n",
    "    for i in range(3, int(n**0.5)+1, 2):\n",
    "        if sieve[int(i/2)]:\n",
    "            sieve[int(i*i/2)::i] = [False] * int((n - i*i - 1) / (2 * i) + 1)\n",
    "    return [2] + [2 * i + 1 for i in range(1, int(n/2)) if sieve[i]]\n",
    "\n",
    "primes = prime_sieve(limit)\n",
    "\n",
    "coprimes = {}\n",
    "for n in range(2, limit+1):\n",
    "    cop = [True]*(n-1)\n",
    "    if n not in primes:\n",
    "        i = 0\n",
    "        while i < len(primes) and primes[i] <= n:\n",
    "            p = primes[i]\n",
    "            if n % p == 0:\n",
    "                cop[p-1::p] = [False]*int((n-1)/p)\n",
    "            i += 1\n",
    "    coprimes[n] = [x for x in range(1, n) if cop[x-1]]\n",
    "\n",
    "count = 0\n",
    "for d in coprimes:\n",
    "    min_n = int(bottom*d + 1)\n",
    "    max_n = math.ceil(top*d - 1)\n",
    "    count += len([n for n in coprimes[d] if n >= min_n and n <= max_n])\n",
    "    \n",
    "\n",
    "count"
   ]
  },
  {
   "cell_type": "markdown",
   "metadata": {},
   "source": [
    "## Problem 74"
   ]
  },
  {
   "cell_type": "markdown",
   "metadata": {},
   "source": [
    "### Digit factorial chains"
   ]
  },
  {
   "cell_type": "code",
   "execution_count": 459,
   "metadata": {},
   "outputs": [
    {
     "data": {
      "text/plain": [
       "402"
      ]
     },
     "execution_count": 459,
     "metadata": {},
     "output_type": "execute_result"
    }
   ],
   "source": [
    "limit = 1000000\n",
    "\n",
    "digit_factorials = {'0':1}\n",
    "f = 1\n",
    "for n in range(1, 10):\n",
    "    f *= n\n",
    "    digit_factorials[str(n)] = f\n",
    "    \n",
    "def sum_digit_factorials(n):\n",
    "    s = 0\n",
    "    for i in str(n):\n",
    "        s += digit_factorials[i]\n",
    "    return s\n",
    "    \n",
    "digit_sum_factorials = {n: sum_digit_factorials(n) for n in range(1, limit)}\n",
    "\n",
    "def digit_sum_factorial(n):\n",
    "    if n not in digit_sum_factorials:\n",
    "        digit_sum_factorials[n] = sum_digit_factorials(n)\n",
    "    return digit_sum_factorials[n]\n",
    "\n",
    "chain_lengths = {}\n",
    "\n",
    "def get_chain_length(n):\n",
    "    if n not in chain_lengths:\n",
    "        k = n\n",
    "        chain = []\n",
    "        while k not in chain:\n",
    "            chain.append(k)\n",
    "            k = digit_sum_factorial(k)\n",
    "        for i in range(0, chain.index(k)):\n",
    "            chain_lengths[chain[i]] = len(chain) - i\n",
    "        for i in range(chain.index(k), len(chain)):\n",
    "            chain_lengths[chain[i]] = len(chain) - chain.index(k)\n",
    "    return chain_lengths[n]\n",
    "    \n",
    "\n",
    "for n in range(1, limit):\n",
    "    get_chain_length(n)\n",
    "    \n",
    "\n",
    "len([x for x in chain_lengths if chain_lengths[x] == 60])"
   ]
  },
  {
   "cell_type": "markdown",
   "metadata": {},
   "source": [
    "## Problem 75"
   ]
  },
  {
   "cell_type": "markdown",
   "metadata": {},
   "source": [
    "### Singular integer right triangles"
   ]
  },
  {
   "cell_type": "code",
   "execution_count": 23,
   "metadata": {},
   "outputs": [
    {
     "data": {
      "text/plain": [
       "161667"
      ]
     },
     "execution_count": 23,
     "metadata": {},
     "output_type": "execute_result"
    }
   ],
   "source": [
    "import itertools\n",
    "\n",
    "max_length = 1500000\n",
    "limit = int(max_length**0.5)\n",
    "\n",
    "def prime_sieve(limit):\n",
    "    sieve = [True] * (int(limit/2))\n",
    "    for i in range(3, int(limit**0.5)+1, 2):\n",
    "        if sieve[int(i/2)]:\n",
    "            sieve[int(i*i/2)::i] = [False] * int((limit - i*i - 1) / (2 * i) + 1)\n",
    "    return [2] + [2 * i + 1 for i in range(1, int(limit/2)) if sieve[i]]\n",
    "\n",
    "\n",
    "def generate_coprimes(limit):\n",
    "    coprimes = {}\n",
    "    for n in range(2, limit+1):\n",
    "        cop = [True]*(n-1)\n",
    "        if n not in primes:\n",
    "            i = 0\n",
    "            while i < len(primes) and primes[i] <= n:\n",
    "                p = primes[i]\n",
    "                if n % p == 0:\n",
    "                    cop[p-1::p] = [False]*int((n-1)/p)\n",
    "                i += 1\n",
    "        coprimes[n] = [x for x in range(1, n) if cop[x-1]]\n",
    "    return coprimes\n",
    "\n",
    "\n",
    "def length(m,n):\n",
    "    return 2*m*(m+n)\n",
    "\n",
    "\n",
    "primes = prime_sieve(limit)\n",
    "coprimes = generate_coprimes(limit)\n",
    "\n",
    "coprimes = {n:[m for m in coprimes[n] if not (n % 2 == 1 and m % 2 == 1)] for n in coprimes}\n",
    "\n",
    "lengths = {}\n",
    "for m in coprimes:\n",
    "    for n in coprimes[m]:\n",
    "        l = length(m,n)\n",
    "        i = 1\n",
    "        while l*i <= max_length:\n",
    "            if l*i not in lengths:\n",
    "                lengths[l*i] = 0\n",
    "            lengths[l*i] += 1\n",
    "            i += 1\n",
    "\n",
    "len([l for l in lengths if lengths[l] == 1])"
   ]
  },
  {
   "cell_type": "markdown",
   "metadata": {},
   "source": [
    "## Problem 76"
   ]
  },
  {
   "cell_type": "markdown",
   "metadata": {},
   "source": [
    "### Counting summations"
   ]
  },
  {
   "cell_type": "code",
   "execution_count": 479,
   "metadata": {},
   "outputs": [
    {
     "data": {
      "text/plain": [
       "190569291"
      ]
     },
     "execution_count": 479,
     "metadata": {},
     "output_type": "execute_result"
    }
   ],
   "source": [
    "summation = 100\n",
    "\n",
    "breakdowns_with_min = {1:{}}\n",
    "for n in range(2, summation+1):\n",
    "    a = 0\n",
    "    breakdowns_with_min[n] = {}\n",
    "    for i in range(int(n/2), 0, -1):\n",
    "        a += 1\n",
    "        if i in breakdowns_with_min[n-i]:\n",
    "            a += breakdowns_with_min[n-i][i]\n",
    "        breakdowns_with_min[n][i] = a\n",
    "        \n",
    "breakdowns_with_min[summation][1]"
   ]
  },
  {
   "cell_type": "markdown",
   "metadata": {},
   "source": [
    "## Problem 77"
   ]
  },
  {
   "cell_type": "markdown",
   "metadata": {},
   "source": [
    "### Prime summations"
   ]
  },
  {
   "cell_type": "code",
   "execution_count": 514,
   "metadata": {},
   "outputs": [
    {
     "data": {
      "text/plain": [
       "71"
      ]
     },
     "execution_count": 514,
     "metadata": {},
     "output_type": "execute_result"
    }
   ],
   "source": [
    "limit_pow = 6\n",
    "limit = 10**limit_pow\n",
    "target = 5000\n",
    "\n",
    "def prime_sieve(limit):\n",
    "    sieve = [True] * (int(limit/2))\n",
    "    for i in range(3, int(limit**0.5)+1, 2):\n",
    "        if sieve[int(i/2)]:\n",
    "            sieve[int(i*i/2)::i] = [False] * int((limit - i*i - 1) / (2 * i) + 1)\n",
    "    return [2] + [2 * i + 1 for i in range(1, int(limit/2)) if sieve[i]]\n",
    "\n",
    "primes = prime_sieve(limit)\n",
    "\n",
    "breakdowns_with_min = {1:{}}\n",
    "\n",
    "n = 2\n",
    "a = 0\n",
    "while a < target:\n",
    "    a = 0\n",
    "    breakdowns_with_min[n] = {}\n",
    "    for i in range(int(n/2), 0, -1):\n",
    "        if i not in primes:\n",
    "            continue\n",
    "        if n-i in primes:\n",
    "            a += 1\n",
    "        if i in breakdowns_with_min[n-i]:\n",
    "            a += breakdowns_with_min[n-i][i]\n",
    "        breakdowns_with_min[n][i] = a\n",
    "    n += 1\n",
    "        \n",
    "max(breakdowns_with_min)"
   ]
  },
  {
   "cell_type": "markdown",
   "metadata": {},
   "source": [
    "## Problem 78"
   ]
  },
  {
   "cell_type": "markdown",
   "metadata": {},
   "source": [
    "### Coin partitions"
   ]
  },
  {
   "cell_type": "code",
   "execution_count": 529,
   "metadata": {},
   "outputs": [
    {
     "data": {
      "text/plain": [
       "55374"
      ]
     },
     "execution_count": 529,
     "metadata": {},
     "output_type": "execute_result"
    }
   ],
   "source": [
    "div_target = 1000000\n",
    "\n",
    "partitions = {0:1}\n",
    "\n",
    "def p(n):\n",
    "    if n < 0:\n",
    "        return 0\n",
    "    if n in partitions:\n",
    "        return partitions[n]\n",
    "    \n",
    "    p = 0\n",
    "    for k in range(1, int(n**0.5+1)):     \n",
    "        p1 = partition(n-k*(3*k-1)/2)\n",
    "        p2 = partition(n-k*(3*k+1)/2)\n",
    "                            \n",
    "        if (k%2 == 1):\n",
    "            p += p1 + p2\n",
    "        else:\n",
    "            p -= p1 + p2\n",
    "    partitions[n] = p\n",
    "    return p\n",
    "\n",
    "n = 1\n",
    "while p(n) % div_target != 0:\n",
    "    n += 1\n",
    "    \n",
    "n"
   ]
  },
  {
   "cell_type": "markdown",
   "metadata": {},
   "source": [
    "## Problem 79"
   ]
  },
  {
   "cell_type": "markdown",
   "metadata": {},
   "source": [
    "### Passcode derivation"
   ]
  },
  {
   "cell_type": "code",
   "execution_count": 86,
   "metadata": {},
   "outputs": [
    {
     "data": {
      "text/plain": [
       "'73162890'"
      ]
     },
     "execution_count": 86,
     "metadata": {},
     "output_type": "execute_result"
    }
   ],
   "source": [
    "with open('p079_keylog.txt') as f:\n",
    "    data = f.read()\n",
    "    \n",
    "codes = data.split('\\n')[:-1]\n",
    "\n",
    "followedBy = {}\n",
    "for c in codes:\n",
    "    if c[0] not in followedBy:\n",
    "        followedBy[c[0]] = set()\n",
    "    followedBy[c[0]].add(c[1])\n",
    "    if c[1] not in followedBy:\n",
    "        followedBy[c[1]] = set()\n",
    "    followedBy[c[1]].add(c[2])\n",
    "    if c[2] not in followedBy:\n",
    "        followedBy[c[2]] = set()\n",
    "        \n",
    "end = ''\n",
    "lasts = [c for c in followedBy if len(followedBy[c]) == 0]\n",
    "while len(lasts) != 0:\n",
    "    last = lasts[0]\n",
    "    end = last + end\n",
    "    del followedBy[last]\n",
    "    for c in followedBy:\n",
    "        if last in followedBy[c]:\n",
    "            followedBy[c].remove(last)\n",
    "    lasts = [c for c in followedBy if len(followedBy[c]) == 0]\n",
    "    \n",
    "end"
   ]
  },
  {
   "cell_type": "markdown",
   "metadata": {},
   "source": [
    "## Problem 80"
   ]
  },
  {
   "cell_type": "markdown",
   "metadata": {},
   "source": [
    "### Square root digital expansion"
   ]
  },
  {
   "cell_type": "code",
   "execution_count": 87,
   "metadata": {},
   "outputs": [
    {
     "data": {
      "text/plain": [
       "40886"
      ]
     },
     "execution_count": 87,
     "metadata": {},
     "output_type": "execute_result"
    }
   ],
   "source": [
    "acc = 0\n",
    "\n",
    "for n in range(2,100):\n",
    "    c = n\n",
    "    p = 0\n",
    "    if n**0.5 != int(n**0.5):\n",
    "        for i in range(0, 100):\n",
    "            x = 0\n",
    "            while (x+1)*(20*p + (x+1)) < c:\n",
    "                x += 1\n",
    "            y = x*(20*p + x)\n",
    "            p = p*10 + x\n",
    "            c -= y\n",
    "            c *= 100\n",
    "            acc += x\n",
    "            if c == 0:\n",
    "                break\n",
    "\n",
    "acc"
   ]
  },
  {
   "cell_type": "markdown",
   "metadata": {},
   "source": [
    "## Problem 81"
   ]
  },
  {
   "cell_type": "markdown",
   "metadata": {},
   "source": [
    "### Path sum: two ways"
   ]
  },
  {
   "cell_type": "code",
   "execution_count": 151,
   "metadata": {},
   "outputs": [
    {
     "data": {
      "text/plain": [
       "427337"
      ]
     },
     "execution_count": 151,
     "metadata": {},
     "output_type": "execute_result"
    }
   ],
   "source": [
    "with open('p081_matrix.txt') as f:\n",
    "    data = f.read()\n",
    "    \n",
    "matrix = [[int(element) for element in row.split(',')] for row in data.split('\\n')[:-1]]\n",
    "mins = [ [0]*len(matrix) for i in range(len(matrix))]\n",
    "\n",
    "mins[0][0] = matrix[0][0]\n",
    "for i in range(len(matrix)):\n",
    "    mins[0][i] = mins[0][i-1] + matrix[0][i]\n",
    "    mins[i][0] = mins[i-1][0] + matrix[i][0]\n",
    "\n",
    "for i in range(1, len(matrix)):\n",
    "    for j in range(i, len(matrix)):\n",
    "        mins[i][j] = matrix[i][j] + min(mins[i-1][j], mins[i][j-1])\n",
    "        mins[j][i] = matrix[j][i] + min(mins[j-1][i], mins[j][i-1])\n",
    "        \n",
    "mins[len(matrix)-1][len(matrix)-1]"
   ]
  },
  {
   "cell_type": "markdown",
   "metadata": {},
   "source": [
    "## Problem 82"
   ]
  },
  {
   "cell_type": "markdown",
   "metadata": {},
   "source": [
    "### Path sum: three ways"
   ]
  },
  {
   "cell_type": "code",
   "execution_count": 246,
   "metadata": {},
   "outputs": [
    {
     "data": {
      "text/plain": [
       "260324"
      ]
     },
     "execution_count": 246,
     "metadata": {},
     "output_type": "execute_result"
    }
   ],
   "source": [
    "with open('p082_matrix.txt') as f:\n",
    "    data = f.read()\n",
    "    \n",
    "matrix = [[int(element) for element in row.split(',')] for row in data.split('\\n')[:-1]]\n",
    "mins = [[0]*len(matrix) for i in range(len(matrix))]\n",
    "\n",
    "for k in range(len(matrix)):\n",
    "    mins[k][0] = matrix[k][0]\n",
    "    \n",
    "for i in range(1, len(matrix)):\n",
    "    tmp = [matrix[j][i] + mins[j][i-1] for j in range(len(matrix))]\n",
    "    sorted_tmp = sorted(tmp)\n",
    "    for j in range(len(matrix)):\n",
    "        mins[j][i] = tmp[j]\n",
    "    \n",
    "    for k in sorted_tmp:\n",
    "        m = tmp.index(k)\n",
    "        diffs = [0]*len(matrix)\n",
    "        for j in range(m-1, -1, -1):\n",
    "            diffs[j] = diffs[j+1] + matrix[j][i]\n",
    "        for j in range(m+1, len(matrix)):\n",
    "            diffs[j] = diffs[j-1] + matrix[j][i]\n",
    "        for j in range(len(matrix)):\n",
    "            if k + diffs[j] < mins[j][i]:\n",
    "                mins[j][i] = k + diffs[j]        \n",
    "        \n",
    "min([x[len(matrix)-1] for x in mins])"
   ]
  },
  {
   "cell_type": "markdown",
   "metadata": {},
   "source": [
    "## Problem 83"
   ]
  },
  {
   "cell_type": "markdown",
   "metadata": {},
   "source": [
    "### Path sum: four ways"
   ]
  },
  {
   "cell_type": "code",
   "execution_count": 276,
   "metadata": {},
   "outputs": [
    {
     "data": {
      "text/plain": [
       "425185"
      ]
     },
     "execution_count": 276,
     "metadata": {},
     "output_type": "execute_result"
    }
   ],
   "source": [
    "with open('p083_matrix.txt') as f:\n",
    "    data = f.read()\n",
    "    \n",
    "matrix = [[int(element) for element in row.split(',')] for row in data.split('\\n')[:-1]]\n",
    "\n",
    "mins = [ [0]*len(matrix) for i in range(len(matrix))]\n",
    "mins[0][0] = matrix[0][0]\n",
    "\n",
    "def neighbours_min(i,j):\n",
    "    neighbours = []\n",
    "    if i > 0:\n",
    "        neighbours.append(mins[j][i-1])\n",
    "    if j > 0:\n",
    "        neighbours.append(mins[j-1][i])\n",
    "    if i < len(matrix)-1:\n",
    "        neighbours.append(mins[j][i+1])\n",
    "    if j < len(matrix)-1:\n",
    "        neighbours.append(mins[j+1][i])\n",
    "    return min([x for x in neighbours if x != 0])\n",
    "\n",
    "def set_element(i,j,k):\n",
    "    mins[j][i] = k\n",
    "    if i > 0:\n",
    "        recalculate(i-1,j,k)\n",
    "    if j > 0:\n",
    "        recalculate(i,j-1,k)\n",
    "    if i < len(matrix)-1:\n",
    "        recalculate(i+1,j,k)\n",
    "    if j < len(matrix)-1:\n",
    "        recalculate(i,j+1,k)\n",
    "        \n",
    "def recalculate(i,j,k):\n",
    "    if k+matrix[j][i] < mins[j][i]:\n",
    "        set_element(i,j,k+matrix[j][i])\n",
    "    \n",
    "for d in range(1,len(matrix)):\n",
    "    for k in range(d+1):\n",
    "        set_element(k, d-k, matrix[d-k][k] + neighbours_min(k, d-k))\n",
    "        \n",
    "l = len(matrix)-1\n",
    "for d in range(l-1, -1, -1):\n",
    "    for k in range(d+1):\n",
    "        set_element(l-k, l-(d-k), matrix[l-(d-k)][l-k] + neighbours_min(l-k, l-(d-k)))\n",
    "\n",
    "mins[len(matrix)-1][len(matrix)-1]"
   ]
  }
 ],
 "metadata": {
  "kernelspec": {
   "display_name": "Python 3",
   "language": "python",
   "name": "python3"
  },
  "language_info": {
   "codemirror_mode": {
    "name": "ipython",
    "version": 3
   },
   "file_extension": ".py",
   "mimetype": "text/x-python",
   "name": "python",
   "nbconvert_exporter": "python",
   "pygments_lexer": "ipython3",
   "version": "3.6.3"
  }
 },
 "nbformat": 4,
 "nbformat_minor": 2
} 
